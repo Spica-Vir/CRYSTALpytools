{
 "cells": [
  {
   "cell_type": "markdown",
   "id": "68158073",
   "metadata": {},
   "source": [
    "# Example notebook for the functions contained in CRYSTALpytools.crystal_io"
   ]
  },
  {
   "cell_type": "markdown",
   "id": "56179e55",
   "metadata": {},
   "source": [
    "### Crystal_input class"
   ]
  },
  {
   "cell_type": "code",
   "execution_count": 1,
   "id": "032121ab",
   "metadata": {
    "tags": []
   },
   "outputs": [],
   "source": [
    "from CRYSTALpytools.crystal_io import Crystal_input"
   ]
  },
  {
   "cell_type": "markdown",
   "id": "7ffc106f-e696-4a0a-92f4-f8b73c158e73",
   "metadata": {},
   "source": [
    "#### Create a crystal input object by directly calling methods"
   ]
  },
  {
   "cell_type": "code",
   "execution_count": 2,
   "id": "4938ba48-2a8d-4b31-b777-bf641fc327fe",
   "metadata": {
    "tags": []
   },
   "outputs": [
    {
     "name": "stdout",
     "output_type": "stream",
     "text": [
      "MGO BULK - GEOMETRY TEST\n",
      "CRYSTAL\n",
      "0   0   0   \n",
      "225 \n",
      "4.217000     \n",
      "2 \n",
      "12     0.00000000   0.00000000   0.00000000 \n",
      "8      0.50000000   0.50000000   0.50000000 \n",
      "BASISSET\n",
      "POB-DZVP \n",
      "DFT\n",
      "B3LYP\n",
      "XXLGRID\n",
      "ENDDFT\n",
      "MAXCYCLE\n",
      "70 \n",
      "SHRINK\n",
      "12 24 \n",
      "TOLINTEG\n",
      "7 7 7 7 14 \n",
      "FMIXING\n",
      "70 \n",
      "DIIS\n",
      "ENDSCF\n",
      "\n"
     ]
    }
   ],
   "source": [
    "mgo_input = Crystal_input()\n",
    "mgo_input.geom.title('MGO BULK - GEOMETRY TEST')\n",
    "mgo_input.geom.crystal(225, # Space group\n",
    "                      [4.217], # Minimal set of lattice parameters\n",
    "                      [[12, 0., 0., 0.], # Atomic labels and coordinates\n",
    "                       [8, 0.5, 0.5, 0.5]]\n",
    "                      )\n",
    "mgo_input.basisset.basisset('POB-DZVP')\n",
    "mgo_input.scf.dft.xcfunc('B3LYP')\n",
    "mgo_input.scf.dft.xxlgrid()\n",
    "mgo_input.scf.tolinteg(7, 7, 7, 7, 14)\n",
    "mgo_input.scf.shrink(12, 24)\n",
    "mgo_input.scf.maxcycle(70)\n",
    "mgo_input.scf.fmixing(70)\n",
    "mgo_input.scf.diis()\n",
    "\n",
    "print(mgo_input.data)"
   ]
  },
  {
   "cell_type": "markdown",
   "id": "cbfdbe40",
   "metadata": {},
   "source": [
    "#### Create a crystal input object from blocks\n",
    "'Block' is a multiple-line string closed by the 'END' keyword. 3 blocks are defined in CRYSTAL d12 format: geometry, basis set and SCF. There are sub-blocks in the 3 major blocks that can be defined in a similar way by calling corresponding keywords.\n",
    "\n",
    "- To set value for keywords,  use `obj.keyword(value)`."
   ]
  },
  {
   "cell_type": "code",
   "execution_count": 3,
   "id": "1bd7a743",
   "metadata": {
    "tags": []
   },
   "outputs": [
    {
     "name": "stdout",
     "output_type": "stream",
     "text": [
      "MGO BULK - GEOMETRY TEST\n",
      "CRYSTAL\n",
      "0 0 0\n",
      "225\n",
      "4.217\n",
      "2\n",
      "12 0.    0.    0.\n",
      "8 0.5   0.5   0.5\n",
      "BASISSET\n",
      "POB-DZVP\n",
      "DFT\n",
      "B3LYP\n",
      "XXLGRID\n",
      "ENDDFT\n",
      "MAXCYCLE\n",
      "200\n",
      "SHRINK\n",
      "12 24\n",
      "TOLINTEG\n",
      "7 7 7 7 14\n",
      "FMIXING\n",
      "70\n",
      "DIIS\n",
      "ENDSCF\n",
      "\n",
      "MGO BULK - GEOMETRY TEST\n",
      "CRYSTAL\n",
      "0 0 0\n",
      "225\n",
      "4.217\n",
      "2\n",
      "12 0.    0.    0.\n",
      "8 0.5   0.5   0.5\n",
      "BASISSET\n",
      "POB-DZVP\n",
      "DFT\n",
      "B3LYP\n",
      "XXLGRID\n",
      "ENDDFT\n",
      "ENDSCF\n",
      "\n"
     ]
    }
   ],
   "source": [
    "geom_block = \\\n",
    "\"\"\"MGO BULK - GEOMETRY TEST\n",
    "CRYSTAL\n",
    "0 0 0\n",
    "225\n",
    "4.217\n",
    "2\n",
    "12 0.    0.    0.\n",
    "8 0.5   0.5   0.5\n",
    "ENDGEOM\n",
    "\"\"\"\n",
    "\n",
    "bs_block   = \\\n",
    "\"\"\"BASISSET\n",
    "POB-DZVP\n",
    "\"\"\"\n",
    "func_block = \\\n",
    "\"\"\"DFT\n",
    "B3LYP\n",
    "XXLGRID\n",
    "ENDDFT\n",
    "\"\"\"\n",
    "scf_block  = \\\n",
    "\"\"\"TOLINTEG\n",
    "7 7 7 7 14\n",
    "SHRINK\n",
    "12 24\n",
    "MAXCYCLE\n",
    "200\n",
    "FMIXING\n",
    "70\n",
    "DIIS\n",
    "ENDSCF\n",
    "\"\"\"\n",
    "mgo_input = Crystal_input()\n",
    "mgo_input.geom(geom_block)\n",
    "mgo_input.basisset(bs_block)\n",
    "mgo_input.scf(func_block + scf_block) # DFT is a sub-block of SCF block\n",
    "print(mgo_input.data)\n",
    "\n",
    "# Clean entries in SCF block and reset DFT subblock only\n",
    "mgo_input.scf()\n",
    "mgo_input.scf.dft(func_block)\n",
    "print(mgo_input.data)"
   ]
  },
  {
   "cell_type": "markdown",
   "id": "01c1e947",
   "metadata": {},
   "source": [
    "#### Create a crystal input object from an existing input file\n",
    "\n",
    "The existing file can act as a template, which is read during initialization. By calling the corresponding method one can change, delete and substitute keywords.\n",
    "\n",
    "- To edite the keyword, the corresponding block \\- subblock \\- keyword method should be called and the new values should be used as the input. \n",
    "\n",
    "- To delete values of the keyword or all the entries in blocks, use `''`. `''` can remove everything and leave the keyword only. For example, `obj.geom.optgeom('')` will get 'OPTGEOM\\nENDOPT'.\n",
    "\n",
    "- To remove everything, use `None`. For example, `obj.geom.optgeom(None)` will completely remove everything. But if `obj.geom.optgeom` attribute or method is called afterwards, it is initialized and generates a 'OPTGEOM\\nENDOPT' string\n"
   ]
  },
  {
   "cell_type": "code",
   "execution_count": 4,
   "id": "ed435d4f",
   "metadata": {
    "tags": []
   },
   "outputs": [
    {
     "name": "stdout",
     "output_type": "stream",
     "text": [
      "Generated by CRYSTALpytools\n",
      "MGO BULK - GEOMETRY TEST\n",
      "CRYSTAL\n",
      "0 0 0\n",
      "225\n",
      "4.217\n",
      "2\n",
      "12 0.    0.    0.\n",
      "8 0.5   0.5   0.5\n",
      "OPTGEOM\n",
      "TOLDEG\n",
      "0.0003 \n",
      "TOLDEX\n",
      "0.0012 \n",
      "ENDOPT\n",
      "ENDGEOM\n",
      "\n",
      "Generated by CRYSTALpytools\n",
      "MGO BULK - GEOMETRY TEST\n",
      "CRYSTAL\n",
      "0 0 0\n",
      "225\n",
      "4.217\n",
      "2\n",
      "12 0.    0.    0.\n",
      "8 0.5   0.5   0.5\n",
      "ENDGEOM\n",
      "\n"
     ]
    },
    {
     "data": {
      "text/plain": [
       "<CRYSTALpytools.crystal_io.Crystal_input at 0x7ffb9ee7fac0>"
      ]
     },
     "execution_count": 4,
     "metadata": {},
     "output_type": "execute_result"
    }
   ],
   "source": [
    "mgo_input = Crystal_input('data/mgo.d12')\n",
    "# Set Optgeom block\n",
    "mgo_input.geom.optgeom.toldex(0.0012)\n",
    "mgo_input.geom.optgeom.toldeg(0.0003)\n",
    "print(mgo_input.geom.data)\n",
    "# Delete OPTGEOM command\n",
    "mgo_input.geom.optgeom(None)\n",
    "print(mgo_input.geom.data)\n",
    "# Write the updated object to file\n",
    "mgo_input.write_file('data/mgo_inputtest.d12')"
   ]
  },
  {
   "cell_type": "markdown",
   "id": "486403f1-d31d-426b-b0f4-6d0c492e3d4d",
   "metadata": {},
   "source": [
    "#### Set geometry\n",
    "\n",
    "The user can set the geometry input by a CIF file or a pymatgen structure when needed. There are 2 available options:\n",
    "\n",
    "1. Use the 'EXTERNAL' keyword and `Crystal_input` object automatically convert the geometry entry to a gui file with default settings (recommended)  \n",
    "2. Use the 'CRYSTAL' keyword. Limited to 3D structures."
   ]
  },
  {
   "cell_type": "code",
   "execution_count": 5,
   "id": "f98b64ce-c8c2-4090-8dde-eb60e33ec527",
   "metadata": {
    "tags": []
   },
   "outputs": [
    {
     "name": "stdout",
     "output_type": "stream",
     "text": [
      "Generated by CRYSTALpytools\n",
      "CRYSTAL\n",
      "0   0   0   \n",
      "14  \n",
      "7.073000     9.166000     12.667000    115.510000   \n",
      "20 \n",
      "1      0.37160000   0.92980000   0.49880000 \n",
      "1      0.24220000   0.76340000   0.33040000 \n",
      "1      0.77660000   0.60000000   0.43090000 \n",
      "1      0.90770000   0.76640000   0.60050000 \n",
      "1      0.79990000   0.53530000   0.25760000 \n",
      "1      0.10820000   0.95930000   0.69510000 \n",
      "1      0.56840000   0.08530000   0.89610000 \n",
      "1      0.29390000   0.07980000   0.85010000 \n",
      "1      0.40860000   0.21910000   0.80230000 \n",
      "6      0.14960000   0.85790000   0.56187000 \n",
      "6      0.24320000   0.85758000   0.48526000 \n",
      "6      0.17040000   0.76206000   0.39004000 \n",
      "6      0.00430000   0.66838000   0.37078000 \n",
      "6      0.90790000   0.67092000   0.44601000 \n",
      "6      0.98060000   0.76560000   0.54106000 \n",
      "6      0.39830000   0.01599000   0.71975000 \n",
      "6      0.41680000   0.10369000   0.82440000 \n",
      "7      0.21229000   0.94984000   0.66089000 \n",
      "8      0.94130000   0.57511000   0.27811000 \n",
      "8      0.54450000   0.00741000   0.69146000 \n",
      "ENDGEOM\n",
      "\n"
     ]
    }
   ],
   "source": [
    "paracetamol = Crystal_input()\n",
    "paracetamol.geom_from_cif('data/paracetamol.cif', keyword='CRYSTAL')\n",
    "print(paracetamol.geom.data)\n",
    "paracetamol = Crystal_input().geom_from_cif('data/paracetamol.cif',\n",
    "                                            gui_name='data/paracetamol.gui')"
   ]
  },
  {
   "cell_type": "markdown",
   "id": "d575fa4b-cb13-4e27-b45f-30baa297a988",
   "metadata": {},
   "source": [
    "It is strongly recommended to set conventional atomic numbers by calling methods such as `Crystal_input.geom.crystal()` and manually type corresponding atomic numbers. Even though `zconv` entry can be provided when using `Crystal_input.geom_from_cif` and `Crystal_input.geom_from_pmg`, sequences of atoms in the input file might not be consistent with sequences in output."
   ]
  },
  {
   "cell_type": "markdown",
   "id": "d763dde4-d00c-4c32-89d4-8b7fe7580646",
   "metadata": {},
   "source": [
    "#### Set basis set\n",
    "\n",
    "The user can set basis set by string (as shown before), a text file or downloading it from [Basis Set Exchange (BSE)](https://www.basissetexchange.org/). Besides, a built-in BS can be called by keyword.\n",
    "\n",
    "To download BSs from BSE, the name of basis set and conventional atomic numbers of elements are needed. \n",
    "\n",
    "Note that in BSE, the charge information is missing. A neutral atom is always assumed by default, which works well in most cases. To modify the initial charge guess, see below. \n",
    "\n",
    "Automatic assignment of charges is available only for all-electron BSs."
   ]
  },
  {
   "cell_type": "code",
   "execution_count": 6,
   "id": "dbe1f740-c284-4aed-b76b-9f8f13195261",
   "metadata": {
    "tags": []
   },
   "outputs": [
    {
     "name": "stdout",
     "output_type": "stream",
     "text": [
      "12 5\n",
      "0 0 6 2.00 1.00\n",
      "  11722.8000000000      0.0019778293\n",
      "   1759.9300000000      0.0151139948\n",
      "    400.8460000000      0.0739107745\n",
      "    112.8070000000      0.2491909140\n",
      "     35.9997000000      0.4879278316\n",
      "     12.1828000000      0.3196618896\n",
      "0 1 6 8.00 1.00\n",
      "    189.1800000000     -0.0032371705      0.0049281299\n",
      "     45.2119000000     -0.0410079060      0.0349887994\n",
      "     14.3563000000     -0.1126000164      0.1407249977\n",
      "      5.1388600000      0.1486330216      0.3336419947\n",
      "      1.9065200000      0.6164970898      0.4449399929\n",
      "      0.7058870000      0.3648290531      0.2692539957\n",
      "0 1 3 2.00 1.00\n",
      "      0.9293400000     -0.2122908985     -0.0224191812\n",
      "      0.2690350000     -0.1079854570      0.1922708390\n",
      "      0.1173790000      1.1758449770      0.8461802916\n",
      "0 1 1 0.00 1.00\n",
      "      0.0421061000      1.0000000000      1.0000000000\n",
      "0 3 1 0.00 1.00\n",
      "      0.1750000000      1.0000000000\n",
      "8 4\n",
      "0 0 6 2.00 1.00\n",
      "   5484.6716600000      0.0018310744\n",
      "    825.2349460000      0.0139501722\n",
      "    188.0469580000      0.0684450781\n",
      "     52.9645000000      0.2327143360\n",
      "     16.8975704000      0.4701928980\n",
      "      5.7996353400      0.3585208530\n",
      "0 1 3 6.00 1.00\n",
      "     15.5396162500     -0.1107775495      0.0708742682\n",
      "      3.5999335860     -0.1480262627      0.3397528391\n",
      "      1.0137617500      1.1307670150      0.7271585773\n",
      "0 1 1 0.00 1.00\n",
      "      0.2700058226      1.0000000000      1.0000000000\n",
      "0 3 1 0.00 1.00\n",
      "      0.8000000000      1.0000000000\n",
      "99 0\n",
      "ENDBS\n",
      "\n"
     ]
    }
   ],
   "source": [
    "# This is a wrapper to quickly set basis sets.\n",
    "# Equivalent to `mgo_input.basisset.from_bse('6-311G*', [12, 8])`\n",
    "mgo_input.bs_user('6-31G*', z=[12, 8])\n",
    "print(mgo_input.basisset.data)"
   ]
  },
  {
   "cell_type": "code",
   "execution_count": 7,
   "id": "4f82a27e-105d-4d98-976c-b802dab94b10",
   "metadata": {
    "tags": []
   },
   "outputs": [
    {
     "name": "stdout",
     "output_type": "stream",
     "text": [
      "8 2\n",
      "0 0 3 2.00 1.00\n",
      "    130.7093214000      0.1543289673\n",
      "     23.8088660500      0.5353281423\n",
      "      6.4436083130      0.4446345422\n",
      "0 1 3 6.00 1.00\n",
      "      5.0331513190     -0.0999672292      0.1559162750\n",
      "      1.1695961250      0.3995128261      0.6076837186\n",
      "      0.3803889600      0.7001154689      0.3919573931\n",
      "12 3\n",
      "0 0 3 2.00 1.00\n",
      "    299.2374137000      0.1543289673\n",
      "     54.5064684500      0.5353281423\n",
      "     14.7515775200      0.4446345422\n",
      "0 1 3 8.00 1.00\n",
      "     15.1218235200     -0.0999672292      0.1559162750\n",
      "      3.5139865790      0.3995128261      0.6076837186\n",
      "      1.1428574980      0.7001154689      0.3919573931\n",
      "0 1 3 2.00 1.00\n",
      "      1.3954482930     -0.2196203690      0.0105876043\n",
      "      0.3893265318      0.2255954336      0.5951670053\n",
      "      0.1523797659      0.9003984260      0.4620010120\n",
      "99 0\n",
      "ENDBS\n",
      "\n"
     ]
    }
   ],
   "source": [
    "# Read a Gaussian STO-3G basis set\n",
    "# Equivalent to `mgo_input.basisset.from_file('data/mgo_inputbs.gbs', 'gaussian94')`\n",
    "mgo_input.bs_user('data/mgo_inputbs.gbs', fmt='gaussian94')\n",
    "print(mgo_input.basisset.data)"
   ]
  },
  {
   "cell_type": "markdown",
   "id": "965949c5-632b-4f21-84b2-6bc1b1d587f1",
   "metadata": {},
   "source": [
    "In some rare cases, the user might want to change the charge of BS shells to get ions and a better initial guess of charge density. A dictionary is used to define the charge.\n",
    "\n",
    "- Key: Conventional atomic number\n",
    "- Value: nshell\\*1 list of charges. Must be consistent with BS definitions."
   ]
  },
  {
   "cell_type": "code",
   "execution_count": 8,
   "id": "3f57294b-728d-416b-9269-1da054ed9f4c",
   "metadata": {
    "tags": []
   },
   "outputs": [
    {
     "name": "stdout",
     "output_type": "stream",
     "text": [
      "8 2\n",
      "0 0 3 2.00 1.00\n",
      "    130.7093214000      0.1543289673\n",
      "     23.8088660500      0.5353281423\n",
      "      6.4436083130      0.4446345422\n",
      "0 1 3 8.00 1.00\n",
      "      5.0331513190     -0.0999672292      0.1559162750\n",
      "      1.1695961250      0.3995128261      0.6076837186\n",
      "      0.3803889600      0.7001154689      0.3919573931\n",
      "12 3\n",
      "0 0 3 2.00 1.00\n",
      "    299.2374137000      0.1543289673\n",
      "     54.5064684500      0.5353281423\n",
      "     14.7515775200      0.4446345422\n",
      "0 1 3 8.00 1.00\n",
      "     15.1218235200     -0.0999672292      0.1559162750\n",
      "      3.5139865790      0.3995128261      0.6076837186\n",
      "      1.1428574980      0.7001154689      0.3919573931\n",
      "0 1 3 0.00 1.00\n",
      "      1.3954482930     -0.2196203690      0.0105876043\n",
      "      0.3893265318      0.2255954336      0.5951670053\n",
      "      0.1523797659      0.9003984260      0.4620010120\n",
      "99 0\n",
      "ENDBS\n",
      "\n"
     ]
    }
   ],
   "source": [
    "# O2- and Mg2+ configuration.\n",
    "chg = {8  : [2.0, 8.0],\n",
    "       12 : [2.0, 8.0, 0.0]}\n",
    "mgo_input.bs_user('data/mgo_inputbs.gbs', fmt='gaussian94', charge=chg)\n",
    "print(mgo_input.basisset.data)"
   ]
  },
  {
   "cell_type": "markdown",
   "id": "46c7eccf-24c7-454b-a982-9b381ef070ed",
   "metadata": {},
   "source": [
    "Similarly, effective core pseudopotential can be defined. The following example uses Stuttgart ECP.\n",
    "\n",
    "Note that the automatic assignment of atomic charge is not available for ECP BSs. `charge` keyword is needed."
   ]
  },
  {
   "cell_type": "code",
   "execution_count": 9,
   "id": "0bfaa44a-8fd1-4965-b908-b58f0339a2c3",
   "metadata": {
    "tags": []
   },
   "outputs": [
    {
     "name": "stdout",
     "output_type": "stream",
     "text": [
      "308 4\n",
      "STUTSC\n",
      "0 4 1 0.00 1.00\n",
      "      1.0000000000      0.0000000000\n",
      "0 0 1 2.00 1.00\n",
      "     10.4456700000     50.7710690000\n",
      "0 2 1 4.00 1.00\n",
      "     18.0451740000     -4.9035510000\n",
      "0 3 1 0.00 1.00\n",
      "      8.1647980000     -3.3121240000\n",
      "312 4\n",
      "STUTSC\n",
      "0 4 1 0.00 1.00\n",
      "      1.0000000000      0.0000000000\n",
      "0 0 1 2.00 1.00\n",
      "      1.7320000000     14.6760000000\n",
      "0 2 1 0.00 1.00\n",
      "      1.1150000000      5.1757000000\n",
      "0 3 1 0.00 1.00\n",
      "      1.2030000000     -1.8160000000\n",
      "99 0\n",
      "ENDBS\n",
      "\n"
     ]
    },
    {
     "name": "stderr",
     "output_type": "stream",
     "text": [
      "/home/huanyu/apps/anaconda3/envs/crystal_py3.9/lib/python3.9/site-packages/CRYSTALpytools/base/basisset.py:299: UserWarning: ECP is used. Automatic assignment of atomic charge is disabled.\n",
      "  self.atoms.append(AtomBS.read_bse(bs, onez))\n"
     ]
    }
   ],
   "source": [
    "ECP = {308 : 'STUTSC',\n",
    "       312 : 'STUTSC'}\n",
    "chg = {308 : [0., 2., 4., 0.],\n",
    "       312 : [0., 2., 0., 0.]}\n",
    "mgo_input.bs_user('Stuttgart RLC ECP', z=[308, 312], ECP=ECP, charge=chg)\n",
    "print(mgo_input.basisset.data)"
   ]
  },
  {
   "cell_type": "markdown",
   "id": "2d2eb231-019a-409d-b3ef-2088e907a4c8",
   "metadata": {},
   "source": [
    "To set conventional atomic numbers for basis sets, the user can use `bs_user()` twice with `append=True`."
   ]
  },
  {
   "cell_type": "code",
   "execution_count": 10,
   "id": "d41385f6-e866-4151-afcf-41b62daeb291",
   "metadata": {
    "tags": []
   },
   "outputs": [
    {
     "name": "stdout",
     "output_type": "stream",
     "text": [
      "6 4\n",
      "0 0 6 2.00 1.00\n",
      "   3047.5248800000      0.0018347371\n",
      "    457.3695180000      0.0140373228\n",
      "    103.9486850000      0.0688426223\n",
      "     29.2101553000      0.2321844432\n",
      "      9.2866629600      0.4679413484\n",
      "      3.1639269600      0.3623119853\n",
      "0 1 3 4.00 1.00\n",
      "      7.8682723500     -0.1193324198      0.0689990666\n",
      "      1.8812885400     -0.1608541517      0.3164239610\n",
      "      0.5442492580      1.1434564380      0.7443082909\n",
      "0 1 1 0.00 1.00\n",
      "      0.1687144782      1.0000000000      1.0000000000\n",
      "0 3 1 0.00 1.00\n",
      "      0.8000000000      1.0000000000\n",
      "1 2\n",
      "0 0 3 1.00 1.00\n",
      "     18.7311369600      0.0334946043\n",
      "      2.8253943650      0.2347269535\n",
      "      0.6401216923      0.8137573261\n",
      "0 0 1 0.00 1.00\n",
      "      0.1612777588      1.0000000000\n",
      "101 3\n",
      "0 0 3 1.00 1.00\n",
      "     13.0107010000      0.0196821580\n",
      "      1.9622572000      0.1379652400\n",
      "      0.4445379600      0.4783193500\n",
      "0 0 1 0.00 1.00\n",
      "      0.1219496200      1.0000000000\n",
      "0 2 1 0.00 1.00\n",
      "      0.8000000000      1.0000000000\n",
      "99 0\n",
      "ENDBS\n",
      "\n"
     ]
    }
   ],
   "source": [
    "obj = Crystal_input()\n",
    "obj.basisset.from_bse('6-31G*', [6, 1]) # Normal definition\n",
    "obj.basisset.from_bse('def2-SVP', [101], append=True) # Define a second basis set for H with label 101\n",
    "print(obj.basisset.data)"
   ]
  },
  {
   "cell_type": "markdown",
   "id": "60821315-d443-4e47-940e-48add6ec5b4b",
   "metadata": {},
   "source": [
    "In principle, to use 'BASISSET' keyword, `mgo_input.basisset.basisset()` should be called. A shortcut is added."
   ]
  },
  {
   "cell_type": "code",
   "execution_count": 11,
   "id": "e1174d13-3da9-4e33-92bd-71421152f87a",
   "metadata": {
    "tags": []
   },
   "outputs": [
    {
     "name": "stdout",
     "output_type": "stream",
     "text": [
      "Generated by CRYSTALpytools\n",
      "MGO BULK - GEOMETRY TEST\n",
      "CRYSTAL\n",
      "0 0 0\n",
      "225\n",
      "4.217\n",
      "2\n",
      "12 0.    0.    0.\n",
      "8 0.5   0.5   0.5\n",
      "BASISSET\n",
      "pob-DZVP \n",
      "DFT\n",
      "B3LYP\n",
      "XXLGRID\n",
      "ENDDFT\n",
      "MAXCYCLE\n",
      "200\n",
      "SHRINK\n",
      "12 24\n",
      "TOLINTEG\n",
      "7 7 7 7 14\n",
      "FMIXING\n",
      "70\n",
      "DIIS\n",
      "ENDSCF\n",
      "\n"
     ]
    },
    {
     "name": "stderr",
     "output_type": "stream",
     "text": [
      "/home/huanyu/apps/anaconda3/envs/crystal_py3.9/lib/python3.9/site-packages/CRYSTALpytools/crystal_io.py:226: UserWarning: User's definition of baisis set is not empty. It will be covered by 'BASISSET' keyword.\n",
      "  self.basisset.basisset(keyword)\n"
     ]
    }
   ],
   "source": [
    "mgo_input.bs_keyword('pob-DZVP')\n",
    "print(mgo_input.data)"
   ]
  },
  {
   "cell_type": "markdown",
   "id": "fe2d3647",
   "metadata": {
    "tags": []
   },
   "source": [
    "### Crystal_output class"
   ]
  },
  {
   "cell_type": "code",
   "execution_count": 1,
   "id": "0a495139",
   "metadata": {
    "tags": []
   },
   "outputs": [],
   "source": [
    "from CRYSTALpytools.crystal_io import Crystal_output"
   ]
  },
  {
   "cell_type": "markdown",
   "id": "6c93a21e",
   "metadata": {
    "tags": []
   },
   "source": [
    "#### Read output case 1: Periodic system"
   ]
  },
  {
   "cell_type": "code",
   "execution_count": 2,
   "id": "bfb6e6f8",
   "metadata": {
    "tags": []
   },
   "outputs": [
    {
     "data": {
      "text/plain": [
       "<CRYSTALpytools.crystal_io.Crystal_output at 0x7f29660f7a00>"
      ]
     },
     "execution_count": 2,
     "metadata": {},
     "output_type": "execute_result"
    }
   ],
   "source": [
    "mgo_output = Crystal_output().read_file('data/mgo_optgeom.out')\n",
    "mgo_output"
   ]
  },
  {
   "cell_type": "markdown",
   "id": "58b3f761",
   "metadata": {},
   "source": [
    "- Substracting basice energy and electronic information"
   ]
  },
  {
   "cell_type": "code",
   "execution_count": 3,
   "id": "be5bb4eb-b17c-4bf3-8f80-557739f878a7",
   "metadata": {
    "tags": []
   },
   "outputs": [
    {
     "name": "stdout",
     "output_type": "stream",
     "text": [
      "Final energy = -7495.340914150903 eV \n",
      "\n",
      "Final energy = -7495.340914150903 eV \n",
      "\n",
      "Fermi energy = -4.136710311917215 eV \n",
      "\n",
      "Band gap = 7.1237 eV \n",
      "\n",
      "Mulliken charge (e) =  [10.129  9.871]\n"
     ]
    }
   ],
   "source": [
    "# Initial SCF energy\n",
    "print(\"Final energy = %s eV \\n\" % mgo_output.get_final_energy())\n",
    "# Initial SCF energy, an alternative way\n",
    "mgo_output.get_convergence(history=False)\n",
    "print(\"Final energy = %s eV \\n\" % mgo_output.final_energy)\n",
    "\n",
    "# Initial SCF Fermi energy\n",
    "print(\"Fermi energy = %s eV \\n\" % mgo_output.get_fermi_energy())\n",
    "\n",
    "# Initial SCF Band gap\n",
    "print(\"Band gap = %s eV \\n\" % mgo_output.get_band_gap())\n",
    "\n",
    "# Mulliken charge, Note that is based on the optimized geometry\n",
    "print(\"Mulliken charge (e) = \", mgo_output.get_mulliken_charges())"
   ]
  },
  {
   "cell_type": "markdown",
   "id": "bd3adc66-dcd2-4656-81ff-3eb3649e80ce",
   "metadata": {},
   "source": [
    "- Substracting SCF convergence"
   ]
  },
  {
   "cell_type": "code",
   "execution_count": 4,
   "id": "3a68c6bb-2f33-4cd3-829b-b3f01c57b122",
   "metadata": {
    "tags": []
   },
   "outputs": [
    {
     "name": "stdout",
     "output_type": "stream",
     "text": [
      "SCF convergence status = converged\n",
      "\n",
      "SCF number of cycles = 8\n",
      "\n",
      "Total energy (eV) = \n",
      " [-7476.82733948 -7489.97945008 -7494.91919331 -7495.33640687\n",
      " -7495.33787794 -7495.33800249 -7495.33800425 -7495.33800435] \n",
      "\n",
      "Energy difference (eV)= \n",
      " [-7.48313122e+03 -1.31430996e+01 -4.95247230e+00 -4.16334210e-01\n",
      " -1.47213600e-03 -1.24628149e-04 -1.75513441e-06 -1.02586926e-07] \n",
      "\n",
      "Fermi level (eV) = \n",
      " [-8.24883759 -4.59365942 -4.10322534 -4.12058103 -4.14111121 -4.13676256\n",
      " -4.13671031] \n",
      "\n",
      "Band gap (eV) = \n",
      " [8.4379 6.6125 7.0523 7.1034 7.1228 7.1235 7.1237] \n",
      "\n"
     ]
    }
   ],
   "source": [
    "mgo_output.get_scf_convergence()\n",
    "# Convergence status\n",
    "print('SCF convergence status = {}\\n'.format(mgo_output.scf_status))\n",
    "print('SCF number of cycles = {:d}\\n'.format(mgo_output.scf_cycles))\n",
    "\n",
    "# Energy iteration history\n",
    "print('Total energy (eV) = \\n', mgo_output.scf_energy, '\\n')\n",
    "print('Energy difference (eV)= \\n', mgo_output.scf_deltae, '\\n')\n",
    "\n",
    "# Fermi level iteration history\n",
    "print('Fermi level (eV) = \\n', mgo_output.get_fermi_energy(history=True), '\\n')\n",
    "\n",
    "# Band gap iteration history\n",
    "print('Band gap (eV) = \\n', mgo_output.get_band_gap(history=True), '\\n')"
   ]
  },
  {
   "cell_type": "markdown",
   "id": "438e85aa-95c6-4f82-87d7-fbc3a826a474",
   "metadata": {
    "tags": []
   },
   "source": [
    "- Substracting forces\n",
    "\n",
    "Note that the forces computed at the initial SCF step is read. To read the final forces, set `initial=False` and use 'ONELOG' keyword in CRYSTAL input file. `grad=True` is valid for optimizations only."
   ]
  },
  {
   "cell_type": "code",
   "execution_count": 5,
   "id": "51c96b9b-41bf-437c-8638-428edb65c9ee",
   "metadata": {
    "tags": []
   },
   "outputs": [
    {
     "name": "stdout",
     "output_type": "stream",
     "text": [
      "Unit: Hartree/Bohr\n",
      "\n",
      "Forces on cell = \n",
      " [[-0.00148273  0.00148273  0.00148273]\n",
      " [ 0.00148273 -0.00148273  0.00148273]\n",
      " [ 0.00148273  0.00148273 -0.00148273]] \n",
      "\n",
      " Forces on atoms = \n",
      " [[-4.18889278e-16 -4.11372640e-16 -4.14981546e-16]\n",
      " [ 4.14263349e-16  4.13107364e-16  4.14981546e-16]] \n",
      "\n",
      " RMS Gradient = \n",
      " [2.0466e-02 4.6930e-03 6.9000e-05 3.2000e-05] \n",
      "\n",
      "\n"
     ]
    }
   ],
   "source": [
    "mgo_output.get_forces(initial=True, grad=True)\n",
    "\n",
    "print('Unit: Hartree/Bohr\\n')\n",
    "print(\"Forces on cell = \\n %s \\n\\n Forces on atoms = \\n %s \\n\\n RMS Gradient = \\n %s \\n\\n\" %\n",
    "      (mgo_output.forces_cell, mgo_output.forces_atoms, mgo_output.opt_rmsgrad))"
   ]
  },
  {
   "cell_type": "markdown",
   "id": "bc11d78b-e1b1-48f5-9467-e8f3c11472d2",
   "metadata": {
    "tags": []
   },
   "source": [
    "- Substracting basic geometry information\n",
    "\n",
    "Option 1: From `get_*` methods\n",
    "\n",
    "By setting `initial=False` the optimized geometry can be printed. In other cases such as SCF calculations, `initial=False` has no effect but takes slightly longer to get results"
   ]
  },
  {
   "cell_type": "code",
   "execution_count": 6,
   "id": "2a3b5a22-15d1-480f-a5a1-3aff73cd98d7",
   "metadata": {
    "tags": []
   },
   "outputs": [
    {
     "name": "stdout",
     "output_type": "stream",
     "text": [
      "Symmetry operators = \n",
      " [[[ 1.  0.  0.]\n",
      "  [ 0.  1.  0.]\n",
      "  [ 0.  0.  1.]\n",
      "  [ 0.  0.  0.]]\n",
      "\n",
      " [[ 0.  1.  0.]\n",
      "  [ 1.  0.  0.]\n",
      "  [-1. -1. -1.]\n",
      "  [ 0.  0.  0.]]\n",
      "\n",
      " [[-1. -1. -1.]\n",
      "  [ 0.  0.  1.]\n",
      "  [ 0.  1.  0.]\n",
      "  [ 0.  0.  0.]]\n",
      "\n",
      " [[ 0.  0.  1.]\n",
      "  [-1. -1. -1.]\n",
      "  [ 1.  0.  0.]\n",
      "  [ 0.  0.  0.]]\n",
      "\n",
      " [[ 0.  0.  1.]\n",
      "  [ 1.  0.  0.]\n",
      "  [ 0.  1.  0.]\n",
      "  [ 0.  0.  0.]]\n",
      "\n",
      " [[ 0.  1.  0.]\n",
      "  [ 0.  0.  1.]\n",
      "  [ 1.  0.  0.]\n",
      "  [ 0.  0.  0.]]\n",
      "\n",
      " [[ 1.  0.  0.]\n",
      "  [ 0.  0.  1.]\n",
      "  [-1. -1. -1.]\n",
      "  [ 0.  0.  0.]]\n",
      "\n",
      " [[ 1.  0.  0.]\n",
      "  [-1. -1. -1.]\n",
      "  [ 0.  1.  0.]\n",
      "  [ 0.  0.  0.]]\n",
      "\n",
      " [[-1. -1. -1.]\n",
      "  [ 0.  1.  0.]\n",
      "  [ 1.  0.  0.]\n",
      "  [ 0.  0.  0.]]\n",
      "\n",
      " [[ 0.  0.  1.]\n",
      "  [ 0.  1.  0.]\n",
      "  [-1. -1. -1.]\n",
      "  [ 0.  0.  0.]]\n",
      "\n",
      " [[ 0.  1.  0.]\n",
      "  [-1. -1. -1.]\n",
      "  [ 0.  0.  1.]\n",
      "  [ 0.  0.  0.]]\n",
      "\n",
      " [[-1. -1. -1.]\n",
      "  [ 1.  0.  0.]\n",
      "  [ 0.  0.  1.]\n",
      "  [ 0.  0.  0.]]\n",
      "\n",
      " [[ 0. -1.  0.]\n",
      "  [-1.  0.  0.]\n",
      "  [ 0.  0. -1.]\n",
      "  [ 0.  0.  0.]]\n",
      "\n",
      " [[-1.  0.  0.]\n",
      "  [ 0. -1.  0.]\n",
      "  [ 1.  1.  1.]\n",
      "  [ 0.  0.  0.]]\n",
      "\n",
      " [[ 0.  0. -1.]\n",
      "  [ 1.  1.  1.]\n",
      "  [ 0. -1.  0.]\n",
      "  [ 0.  0.  0.]]\n",
      "\n",
      " [[ 1.  1.  1.]\n",
      "  [ 0.  0. -1.]\n",
      "  [-1.  0.  0.]\n",
      "  [ 0.  0.  0.]]\n",
      "\n",
      " [[-1.  0.  0.]\n",
      "  [ 0.  0. -1.]\n",
      "  [ 0. -1.  0.]\n",
      "  [ 0.  0.  0.]]\n",
      "\n",
      " [[ 0.  0. -1.]\n",
      "  [ 0. -1.  0.]\n",
      "  [-1.  0.  0.]\n",
      "  [ 0.  0.  0.]]\n",
      "\n",
      " [[ 0.  0. -1.]\n",
      "  [-1.  0.  0.]\n",
      "  [ 1.  1.  1.]\n",
      "  [ 0.  0.  0.]]\n",
      "\n",
      " [[ 1.  1.  1.]\n",
      "  [-1.  0.  0.]\n",
      "  [ 0. -1.  0.]\n",
      "  [ 0.  0.  0.]]\n",
      "\n",
      " [[ 0. -1.  0.]\n",
      "  [ 1.  1.  1.]\n",
      "  [-1.  0.  0.]\n",
      "  [ 0.  0.  0.]]\n",
      "\n",
      " [[ 0. -1.  0.]\n",
      "  [ 0.  0. -1.]\n",
      "  [ 1.  1.  1.]\n",
      "  [ 0.  0.  0.]]\n",
      "\n",
      " [[ 1.  1.  1.]\n",
      "  [ 0. -1.  0.]\n",
      "  [ 0.  0. -1.]\n",
      "  [ 0.  0.  0.]]\n",
      "\n",
      " [[-1.  0.  0.]\n",
      "  [ 1.  1.  1.]\n",
      "  [ 0.  0. -1.]\n",
      "  [ 0.  0.  0.]]\n",
      "\n",
      " [[-1.  0.  0.]\n",
      "  [ 0. -1.  0.]\n",
      "  [ 0.  0. -1.]\n",
      "  [ 0.  0.  0.]]\n",
      "\n",
      " [[ 0. -1.  0.]\n",
      "  [-1.  0.  0.]\n",
      "  [ 1.  1.  1.]\n",
      "  [ 0.  0.  0.]]\n",
      "\n",
      " [[ 1.  1.  1.]\n",
      "  [ 0.  0. -1.]\n",
      "  [ 0. -1.  0.]\n",
      "  [ 0.  0.  0.]]\n",
      "\n",
      " [[ 0.  0. -1.]\n",
      "  [ 1.  1.  1.]\n",
      "  [-1.  0.  0.]\n",
      "  [ 0.  0.  0.]]\n",
      "\n",
      " [[ 0.  0. -1.]\n",
      "  [-1.  0.  0.]\n",
      "  [ 0. -1.  0.]\n",
      "  [ 0.  0.  0.]]\n",
      "\n",
      " [[ 0. -1.  0.]\n",
      "  [ 0.  0. -1.]\n",
      "  [-1.  0.  0.]\n",
      "  [ 0.  0.  0.]]\n",
      "\n",
      " [[-1.  0.  0.]\n",
      "  [ 0.  0. -1.]\n",
      "  [ 1.  1.  1.]\n",
      "  [ 0.  0.  0.]]\n",
      "\n",
      " [[-1.  0.  0.]\n",
      "  [ 1.  1.  1.]\n",
      "  [ 0. -1.  0.]\n",
      "  [ 0.  0.  0.]]\n",
      "\n",
      " [[ 1.  1.  1.]\n",
      "  [ 0. -1.  0.]\n",
      "  [-1.  0.  0.]\n",
      "  [ 0.  0.  0.]]\n",
      "\n",
      " [[ 0.  0. -1.]\n",
      "  [ 0. -1.  0.]\n",
      "  [ 1.  1.  1.]\n",
      "  [ 0.  0.  0.]]\n",
      "\n",
      " [[ 0. -1.  0.]\n",
      "  [ 1.  1.  1.]\n",
      "  [ 0.  0. -1.]\n",
      "  [ 0.  0.  0.]]\n",
      "\n",
      " [[ 1.  1.  1.]\n",
      "  [-1.  0.  0.]\n",
      "  [ 0.  0. -1.]\n",
      "  [ 0.  0.  0.]]\n",
      "\n",
      " [[ 0.  1.  0.]\n",
      "  [ 1.  0.  0.]\n",
      "  [ 0.  0.  1.]\n",
      "  [ 0.  0.  0.]]\n",
      "\n",
      " [[ 1.  0.  0.]\n",
      "  [ 0.  1.  0.]\n",
      "  [-1. -1. -1.]\n",
      "  [ 0.  0.  0.]]\n",
      "\n",
      " [[ 0.  0.  1.]\n",
      "  [-1. -1. -1.]\n",
      "  [ 0.  1.  0.]\n",
      "  [ 0.  0.  0.]]\n",
      "\n",
      " [[-1. -1. -1.]\n",
      "  [ 0.  0.  1.]\n",
      "  [ 1.  0.  0.]\n",
      "  [ 0.  0.  0.]]\n",
      "\n",
      " [[ 1.  0.  0.]\n",
      "  [ 0.  0.  1.]\n",
      "  [ 0.  1.  0.]\n",
      "  [ 0.  0.  0.]]\n",
      "\n",
      " [[ 0.  0.  1.]\n",
      "  [ 0.  1.  0.]\n",
      "  [ 1.  0.  0.]\n",
      "  [ 0.  0.  0.]]\n",
      "\n",
      " [[ 0.  0.  1.]\n",
      "  [ 1.  0.  0.]\n",
      "  [-1. -1. -1.]\n",
      "  [ 0.  0.  0.]]\n",
      "\n",
      " [[-1. -1. -1.]\n",
      "  [ 1.  0.  0.]\n",
      "  [ 0.  1.  0.]\n",
      "  [ 0.  0.  0.]]\n",
      "\n",
      " [[ 0.  1.  0.]\n",
      "  [-1. -1. -1.]\n",
      "  [ 1.  0.  0.]\n",
      "  [ 0.  0.  0.]]\n",
      "\n",
      " [[ 0.  1.  0.]\n",
      "  [ 0.  0.  1.]\n",
      "  [-1. -1. -1.]\n",
      "  [ 0.  0.  0.]]\n",
      "\n",
      " [[-1. -1. -1.]\n",
      "  [ 0.  1.  0.]\n",
      "  [ 0.  0.  1.]\n",
      "  [ 0.  0.  0.]]\n",
      "\n",
      " [[ 1.  0.  0.]\n",
      "  [-1. -1. -1.]\n",
      "  [ 0.  0.  1.]\n",
      "  [ 0.  0.  0.]]] \n",
      "\n",
      "Pre-optimized geometry\n",
      " Full Formula (Mg1 O1)\n",
      "Reduced Formula: MgO\n",
      "abc   :   2.981869   2.981869   2.981869\n",
      "angles:  60.000000  60.000000  60.000000\n",
      "pbc   :       True       True       True\n",
      "Sites (2)\n",
      "  #  SP      a    b    c\n",
      "---  ----  ---  ---  ---\n",
      "  0  Mg    0    0    0\n",
      "  1  O     0.5  0.5  0.5 \n",
      "\n",
      "Optimized geometry\n",
      " Full Formula (Mg1 O1)\n",
      "Reduced Formula: MgO\n",
      "abc   :   2.998288   2.998288   2.998288\n",
      "angles:  60.000000  60.000000  60.000000\n",
      "pbc   :       True       True       True\n",
      "Sites (2)\n",
      "  #  SP       a     b     c\n",
      "---  ----  ----  ----  ----\n",
      "  0  Mg     0     0     0\n",
      "  1  O     -0.5  -0.5  -0.5 \n",
      "\n",
      "Using get_last_geom()\n",
      " [[[2.220446049250313e-16, 2.120110010095489, 2.120110010095489], [-1.879447732766198, 2.326936195641527, -0.20682618554603738], [-2.315657498380442, 0.22938358006820675, 1.8907264300272826]], array([12,  8]), [[0.0, 0.0, 0.0], [-2.0860661354449475, 2.325410513787739, 1.8915894914962277]]] \n",
      "\n",
      "Lattice matrix:\n",
      " [[ 2.22044605e-16  2.10850000e+00  2.10850000e+00]\n",
      " [-1.86915562e+00  2.31419358e+00 -2.05693578e-01]\n",
      " [-2.30297665e+00  2.28127445e-01  1.88037256e+00]] \n",
      "\n",
      "Reprocal lattice matrix\n",
      " [[ 1.47411286  1.33668647  1.6432449 ]\n",
      " [-1.16755443  1.62739207 -1.62739207]\n",
      " [-1.78067128 -1.32083364  1.32083364]] \n",
      "\n",
      "Cell expansion matrix\n",
      " [[1. 0. 0.]\n",
      " [0. 1. 0.]\n",
      " [0. 0. 1.]] \n",
      "\n",
      "Primitive optimized geometry\n",
      " Full Formula (Mg1 O1)\n",
      "Reduced Formula: MgO\n",
      "abc   :   2.998288   2.998288   2.998288\n",
      "angles:  60.000000  60.000000  60.000000\n",
      "pbc   :       True       True       True\n",
      "Sites (2)\n",
      "  #  SP       a     b     c\n",
      "---  ----  ----  ----  ----\n",
      "  0  Mg    -0.5  -0.5  -0.5\n",
      "  1  O     -0     0     0 \n",
      "\n",
      "Primitive lattice matrix\n",
      " [[ 2.22044605e-16  2.10850000e+00  2.10850000e+00]\n",
      " [-1.86915562e+00  2.31419358e+00 -2.05693578e-01]\n",
      " [-2.30297665e+00  2.28127445e-01  1.88037256e+00]] \n",
      "\n",
      "Primitive reciprocal lattice matrix\n",
      " [[ 1.47411286  1.33668647  1.6432449 ]\n",
      " [-1.16755443  1.62739207 -1.62739207]\n",
      " [-1.78067128 -1.32083364  1.32083364]] \n",
      "\n"
     ]
    }
   ],
   "source": [
    "# Symmetry operators\n",
    "print(\"Symmetry operators = \\n %s \\n\" % mgo_output.get_symmops())\n",
    "\n",
    "# Pre-optimized geometry\n",
    "print('Pre-optimized geometry\\n', mgo_output.get_geometry(initial=True), '\\n')\n",
    "\n",
    "# Optimized geometry\n",
    "print('Optimized geometry\\n', mgo_output.get_geometry(initial=False), '\\n')\n",
    "# Optimized geometry, an alternative, which returns a list of key informations\n",
    "print('Using get_last_geom()\\n', mgo_output.get_last_geom(write_gui_file=False), '\\n')\n",
    "\n",
    "# Lattice matrix\n",
    "print('Lattice matrix:\\n', mgo_output.get_lattice(initial=True), '\\n')\n",
    "\n",
    "# Reprocal lattice matrix\n",
    "print('Reprocal lattice matrix\\n', mgo_output.get_reciprocal_lattice(initial=True), '\\n')\n",
    "\n",
    "# Cell expansion matrix\n",
    "print('Cell expansion matrix\\n', mgo_output.get_trans_matrix(), '\\n')\n",
    "\n",
    "# Primitive optimized geometry (If supercell expansion is applied)\n",
    "print('Primitive optimized geometry\\n', mgo_output.get_primitive_geometry(initial=False), '\\n')\n",
    "\n",
    "# Primitive lattice matrix (If supercell expansion is applied)\n",
    "print('Primitive lattice matrix\\n', mgo_output.get_primitive_lattice(initial=True), '\\n')\n",
    "\n",
    "# Primitive reciprocal lattice matrix (If supercell expansion is applied)\n",
    "print('Primitive reciprocal lattice matrix\\n', mgo_output.get_primitive_reciprocal_lattice(initial=True), '\\n')"
   ]
  },
  {
   "cell_type": "markdown",
   "id": "4f0a873d-890d-4811-bdbf-a62763209ebd",
   "metadata": {
    "tags": []
   },
   "source": [
    "Option 2: Basic properties can be directly called as properties\n",
    "\n",
    "For atomic coordinates, that is equivalent to `get_geometry(initial=True)`, i.e., the initial geometry."
   ]
  },
  {
   "cell_type": "code",
   "execution_count": 7,
   "id": "26a62b31-3d17-4d4d-be07-5c5e15b0f947",
   "metadata": {
    "tags": []
   },
   "outputs": [
    {
     "name": "stdout",
     "output_type": "stream",
     "text": [
      "Space group = 225 F M 3 M\n",
      "\n",
      "Number of atoms = 2\n",
      "\n",
      "Species =  ['Mg', 'O'] \n",
      "\n",
      "Conventional atomic numbers =  [12  8] \n",
      "\n",
      "Atomic positions = \n",
      " [[0.  0.  0. ]\n",
      " [0.5 0.5 0.5]] \n",
      "\n",
      "Fractional atomic positions = \n",
      " [[0.  0.  0. ]\n",
      " [0.5 0.5 0.5]] \n",
      "\n",
      "Cartesian atomic positions = \n",
      " [[ 0.          0.          0.        ]\n",
      " [-2.08606614  2.32541051  1.89158949]] \n",
      "\n"
     ]
    }
   ],
   "source": [
    "# Space group number and symbol\n",
    "print('Space group = {:d} {:s}\\n'.format(mgo_output.sg_number, mgo_output.sg_symbol))\n",
    "# Number of atoms\n",
    "print('Number of atoms = {:d}\\n'.format(mgo_output.n_atoms))\n",
    "# Atomic symbols\n",
    "print('Species = ', mgo_output.atom_symbols, '\\n')\n",
    "# Conventional atomic numbers, consistent with CRYSTAL (e.g., 101 for H with pesudopotentials)\n",
    "print('Conventional atomic numbers = ', mgo_output.atom_numbers, '\\n')\n",
    "# Atomic positions, consistent with CRYSTAL (e.g., Fractional, Fractional, Cartesian for 2D periodic systems)\n",
    "print('Atomic positions = \\n', mgo_output.atom_positions, '\\n')\n",
    "# Fractional atomic positions\n",
    "print('Fractional atomic positions = \\n', mgo_output.atom_positions_frac, '\\n')\n",
    "# Cartesian atomic positions\n",
    "print('Cartesian atomic positions = \\n', mgo_output.atom_positions_cart, '\\n')"
   ]
  },
  {
   "cell_type": "markdown",
   "id": "a46384ad-af5e-47ed-9be1-6a668112604d",
   "metadata": {
    "tags": []
   },
   "source": [
    "- Substracting Optimization convergence and trajectory\n",
    "\n",
    "Trajectory is written in 'data/mgo_optgeom.opttraj' in CRYSTAL gui format."
   ]
  },
  {
   "cell_type": "code",
   "execution_count": 8,
   "id": "3c4f5cac-2a16-4208-9976-d70a0063e9a9",
   "metadata": {
    "tags": []
   },
   "outputs": [
    {
     "name": "stdout",
     "output_type": "stream",
     "text": [
      "mkdir: cannot create directory ‘data/mgo_optgeom.opttraj’: File exists\n",
      "Optimization convergence status = converged\n",
      "\n",
      "Optimization cycles = 4\n",
      "\n",
      "Optimization energy history (eV) = \n",
      " [ -275.44859114 -7495.3406783  -7495.34087403 -7495.34091415] \n",
      "\n",
      "Optimization energy difference (eV) = \n",
      " [-2.75448591e+02 -2.67406293e-03 -1.95731501e-04 -4.01367947e-05] \n",
      "\n",
      "Optimization max gradient (Hartree/Bohr) = \n",
      " [2.0466e-02 4.6930e-03 6.9000e-05 3.2000e-05] \n",
      "\n",
      "Optimization RMS gradient (Hartree/Bohr) = \n",
      " [2.0466e-02 4.6930e-03 6.9000e-05 3.2000e-05] \n",
      "\n",
      "Optimization max displacement (Bohr) = \n",
      " [0.000e+00 2.177e-03 3.200e-05 1.500e-05] \n",
      "\n",
      "Optimization RMS displacement (Bohr) = \n",
      " [0.000e+00 2.177e-03 3.200e-05 1.500e-05] \n",
      "\n"
     ]
    }
   ],
   "source": [
    "!mkdir data/mgo_optgeom.opttraj\n",
    "mgo_output.get_opt_convergence(write_gui=True, gui_name='data/mgo_optgeom.opttraj/mgo')\n",
    "\n",
    "print('Optimization convergence status = {:s}\\n'.format(mgo_output.opt_status))\n",
    "print('Optimization cycles = {:d}\\n'.format(mgo_output.opt_cycles))\n",
    "print('Optimization energy history (eV) = \\n', mgo_output.opt_energy, '\\n')\n",
    "print('Optimization energy difference (eV) = \\n', mgo_output.opt_deltae, '\\n')\n",
    "print('Optimization max gradient (Hartree/Bohr) = \\n', mgo_output.opt_maxgrad, '\\n')\n",
    "print('Optimization RMS gradient (Hartree/Bohr) = \\n', mgo_output.opt_rmsgrad, '\\n')\n",
    "print('Optimization max displacement (Bohr) = \\n', mgo_output.opt_maxdisp, '\\n')\n",
    "print('Optimization RMS displacement (Bohr) = \\n', mgo_output.opt_rmsdisp, '\\n')"
   ]
  },
  {
   "cell_type": "markdown",
   "id": "97ab3742",
   "metadata": {},
   "source": [
    "#### 0D system"
   ]
  },
  {
   "cell_type": "code",
   "execution_count": 10,
   "id": "1cc03b02",
   "metadata": {
    "tags": []
   },
   "outputs": [],
   "source": [
    "co_output = Crystal_output().read_file('data/co.out')"
   ]
  },
  {
   "cell_type": "code",
   "execution_count": 11,
   "id": "7798fb5e",
   "metadata": {
    "tags": []
   },
   "outputs": [
    {
     "name": "stdout",
     "output_type": "stream",
     "text": [
      "Number of atoms = 2\n",
      "\n",
      "Species =  ['C', 'O'] \n",
      "\n",
      "Atomic positions = \n",
      " [[0.  0.  0. ]\n",
      " [0.8 0.5 0.4]] \n",
      "\n",
      "Final energy = -3040.063479187389 eV \n",
      "\n",
      "Fermi energy = -7.247933954451301 eV \n",
      "\n",
      "Primitive lattice \n",
      " None \n",
      "\n",
      "Reciprocal lattice \n",
      " None \n",
      "\n",
      "Band gap = 10.9012 eV \n",
      "\n",
      "Last geometry = \n",
      " [[[500.0, 0.0, 0.0], [0.0, 500.0, 0.0], [0.0, 0.0, 500.0]], array([6, 8]), [[0.0, 0.0, 0.0], [0.8, 0.5, 0.4]]] \n",
      "\n",
      "Symmetry operators = \n",
      " [] \n",
      "\n",
      "Forces on cell = \n",
      " [] \n",
      "\n",
      " Forces on atoms = \n",
      " [[-0.48652346 -0.30407721 -0.24326191]\n",
      " [ 0.48652346  0.30407721  0.24326191]] \n",
      "\n",
      "\n",
      "SCF energy history = \n",
      " [-3050.41709057 -3037.8127751  -3037.86317042 -3037.87780122\n",
      " -3037.87917172 -3037.87917184 -3037.87917184] \n",
      "\n",
      " Energy difference = \n",
      " [-3.04767526e+03  1.25988718e+01 -5.03410646e-02 -1.46397258e-02\n",
      " -1.37145387e-03 -1.17281075e-07 -7.48313122e-10] \n",
      "\n",
      "\n"
     ]
    },
    {
     "name": "stderr",
     "output_type": "stream",
     "text": [
      "/home/huanyu/apps/anaconda3/envs/crystal_py3.9/lib/python3.9/site-packages/CRYSTALpytools/crystal_io.py:807: UserWarning: 0D system. No lattice.\n",
      "  warnings.warn('0D system. No lattice.')\n",
      "/home/huanyu/apps/anaconda3/envs/crystal_py3.9/lib/python3.9/site-packages/CRYSTALpytools/crystal_io.py:523: UserWarning: 0D system. No lattice.\n",
      "  warnings.warn('0D system. No lattice.')\n"
     ]
    }
   ],
   "source": [
    "# Number of atoms\n",
    "print('Number of atoms = {:d}\\n'.format(co_output.n_atoms))\n",
    "# Atomic symbols\n",
    "print('Species = ', co_output.atom_symbols, '\\n')\n",
    "# Atomic positions, consistent with CRYSTAL (e.g., Fractional, Fractional, Cartesian for 2D periodic systems)\n",
    "print('Atomic positions = \\n', co_output.atom_positions, '\\n')\n",
    "\n",
    "# Final energy\n",
    "print(\"Final energy = %s eV \\n\" % co_output.get_final_energy())\n",
    "\n",
    "# Fermi energy\n",
    "print(\"Fermi energy = %s eV \\n\" % co_output.get_fermi_energy())\n",
    "\n",
    "# Primitive lattice\n",
    "print(\"Primitive lattice \\n %s \\n\" % co_output.get_primitive_lattice())\n",
    "\n",
    "# Reciprocal lattice\n",
    "print(\"Reciprocal lattice \\n %s \\n\" % co_output.get_reciprocal_lattice())\n",
    "\n",
    "# Band gap\n",
    "print(\"Band gap = %s eV \\n\" % co_output.get_band_gap())\n",
    "\n",
    "# Last geometry\n",
    "print(\"Last geometry = \\n %s \\n\" % co_output.get_last_geom())\n",
    "\n",
    "# Symmetry operators\n",
    "print(\"Symmetry operators = \\n %s \\n\" % co_output.get_symmops())\n",
    "\n",
    "# Forces\n",
    "co_output.get_forces()\n",
    "print(\"Forces on cell = \\n %s \\n\\n Forces on atoms = \\n %s \\n\\n\" %\n",
    "      (co_output.forces_cell, co_output.forces_atoms))\n",
    "\n",
    "# Scf convergence\n",
    "co_output.get_scf_convergence()\n",
    "print(\"SCF energy history = \\n %s \\n\\n Energy difference = \\n %s \\n\\n\" %\n",
    "      (co_output.scf_energy, co_output.scf_deltae))"
   ]
  },
  {
   "cell_type": "markdown",
   "id": "ac37f16d",
   "metadata": {},
   "source": [
    "### Properties_input class"
   ]
  },
  {
   "cell_type": "code",
   "execution_count": 1,
   "id": "9a8ed8b1-1ec8-438a-a4d4-dee1b98c2fe1",
   "metadata": {
    "tags": []
   },
   "outputs": [],
   "source": [
    "from CRYSTALpytools.crystal_io import Properties_input"
   ]
  },
  {
   "cell_type": "markdown",
   "id": "1c9d3903",
   "metadata": {},
   "source": [
    "#### Create a properties input object by directly calling methods"
   ]
  },
  {
   "cell_type": "code",
   "execution_count": 2,
   "id": "1aa05d78",
   "metadata": {
    "tags": []
   },
   "outputs": [
    {
     "data": {
      "text/plain": [
       "<CRYSTALpytools.crystal_io.Properties_input at 0x7fcc85da8670>"
      ]
     },
     "execution_count": 2,
     "metadata": {},
     "output_type": "execute_result"
    }
   ],
   "source": [
    "# Create the bands input object\n",
    "inp = Properties_input()\n",
    "# NEWK + ECHG plot\n",
    "inp.newk(12, 24, 1, 0)\n",
    "inp.echg(0, 95) # N point of MAPNET set to 95. Default 100\n",
    "inp.echg.coordina([-4., -4., 0.], [4, -4, 0.], [4., 4., 0.])\n",
    "inp.echg.margins(1.5, 1.5, 1.5, 1.5)\n",
    "inp.echg.rectangu()\n",
    "\n",
    "# BAND\n",
    "inp.band('Band structure', 3, 4, 200, 1, 26, 1, 0,\n",
    "         [[[0, 0, 0], [2, 0, 0]], # 3*2*3 list. 3 line segments, 2 ending points each segment and 3 coordinates each point\n",
    "          [[2, 0, 0], [2, 2, 2]],\n",
    "          [[2, 2, 2], [1, 0, 2]]])\n",
    "\n",
    "# Write the input\n",
    "inp.write_file('data/prop_input_1.d3')"
   ]
  },
  {
   "cell_type": "markdown",
   "id": "d5c41cab-0816-4719-bc56-9ff4aed9c769",
   "metadata": {},
   "source": [
    "The d3 formatted string can be examined by calling the `.data` attribute. The 'BAND' block is printed before NEWK even if it is set after NEWK, because the BAND calculation overwrites NEWK, which, in some circumstances, might lead to error, for example, 'NEWK-BAND-DOSS'. In CRYSTALpytools, BAND block is always printed before NEWK unless an appended sub-block is added (see below, charge difference section)."
   ]
  },
  {
   "cell_type": "code",
   "execution_count": 3,
   "id": "22d53374",
   "metadata": {
    "tags": []
   },
   "outputs": [
    {
     "name": "stdout",
     "output_type": "stream",
     "text": [
      "BAND\n",
      "Band structure \n",
      "3 4 200 1 26 1 0 \n",
      "0  0  0    2  0  0    \n",
      "2  0  0    2  2  2    \n",
      "2  2  2    1  0  2    \n",
      "NEWK\n",
      "12 24 \n",
      "1 0 \n",
      "ECHG\n",
      "0\n",
      "95\n",
      "COORDINA\n",
      "-4.000000 -4.000000  0.000000  \n",
      " 4.000000 -4.000000  0.000000  \n",
      " 4.000000  4.000000  0.000000  \n",
      "RECTANGU\n",
      "MARGINS\n",
      "1.5 1.5 1.5 1.5 \n",
      "END\n",
      "END\n",
      "\n"
     ]
    }
   ],
   "source": [
    "print(inp.data)"
   ]
  },
  {
   "cell_type": "markdown",
   "id": "b74efb1e",
   "metadata": {},
   "source": [
    "#### Bands from pymatgen HighSymmKpath object\n",
    "\n",
    "In this example, a band calculation is generated by the shortcut function `make_bands_block()`. A pymatgen HighSymmKpath object can be called."
   ]
  },
  {
   "cell_type": "code",
   "execution_count": 4,
   "id": "9698e3ba",
   "metadata": {
    "tags": []
   },
   "outputs": [
    {
     "name": "stdout",
     "output_type": "stream",
     "text": [
      "BAND\n",
      "BAND STRUCTURE CALCULATION \n",
      "10 2 200 1 26 1 0 \n",
      "0  0  0    0  1  0    \n",
      "0  1  0    1  1  0    \n",
      "1  1  0    0  0  0    \n",
      "0  0  0    0  0  1    \n",
      "0  0  1    0  1  1    \n",
      "0  1  1    1  1  1    \n",
      "1  1  1    0  0  1    \n",
      "0  0  1    0  1  0    \n",
      "0  1  0    0  1  1    \n",
      "0  1  1    1  1  0    \n",
      "END\n",
      "\n"
     ]
    }
   ],
   "source": [
    "from pymatgen.symmetry.bandstructure import HighSymmKpath\n",
    "from pymatgen.symmetry.analyzer import SpacegroupAnalyzer\n",
    "\n",
    "from CRYSTALpytools.crystal_io import Crystal_output\n",
    "from CRYSTALpytools.crystal_io import Properties_input\n",
    "from CRYSTALpytools.convert import cry_out2pmg\n",
    "\n",
    "\n",
    "# Create the bands input object\n",
    "inp = Properties_input()\n",
    "\n",
    "# Read the structure\n",
    "mgo = cry_out2pmg('data/Mg2O2_O1_100_1.out')\n",
    "mgo_prim = SpacegroupAnalyzer(mgo).get_primitive_standard_structure(international_monoclinic=False)\n",
    "\n",
    "# Obtain the k path object\n",
    "k_path = HighSymmKpath(mgo_prim)\n",
    "\n",
    "inp.make_bands_block(k_path, 200, 1, 26)\n",
    "\n",
    "# Write the input\n",
    "inp.write_file('data/prop_input_2.d3')\n",
    "print(inp.data)"
   ]
  },
  {
   "cell_type": "markdown",
   "id": "1b252258",
   "metadata": {},
   "source": [
    "#### DOSS and projected DOSS\n",
    "\n",
    "In this example, a projected DOSS block is generated by the shortcut function `make_doss_block()`, which projects DOS onto all Mg atoms. The DOSS block is followed by a manually set 'DOSS-like' (COOP, COHP) block as currently no shortcut is provided.\n",
    "\n",
    "Shortcut functions do not conflict with each other. The doss block is appended to the previous input."
   ]
  },
  {
   "cell_type": "code",
   "execution_count": 5,
   "id": "1ce65af5",
   "metadata": {
    "tags": []
   },
   "outputs": [
    {
     "name": "stdout",
     "output_type": "stream",
     "text": [
      "BAND\n",
      "BAND STRUCTURE CALCULATION \n",
      "10 2 200 1 26 1 0 \n",
      "0  0  0    0  1  0    \n",
      "0  1  0    1  1  0    \n",
      "1  1  0    0  0  0    \n",
      "0  0  0    0  0  1    \n",
      "0  0  1    0  1  1    \n",
      "0  1  1    1  1  1    \n",
      "1  1  1    0  0  1    \n",
      "0  0  1    0  1  0    \n",
      "0  1  0    0  1  1    \n",
      "0  1  1    1  1  0    \n",
      "NEWK\n",
      "12 24 \n",
      "1 0 \n",
      "DOSS\n",
      "1 200 1 26 2 12 1 \n",
      "-2 1 2 \n",
      "COOP\n",
      "1 200 1 26 2 12 1 \n",
      "-1 1 \n",
      "END\n",
      "\n"
     ]
    }
   ],
   "source": [
    "# NEWK\n",
    "inp.newk(12, 24, 1, 0)\n",
    "\n",
    "# DOSS, with projection to all Mg atoms. An output file from crystal calculation is required\n",
    "inp.make_doss_block(band_range=[1, 26], projections=['Mg'],\n",
    "                    output_file='data/Mg2O2_O1_100_1.out')\n",
    "\n",
    "# COOP, with projection to atom 1\n",
    "inp.coop(1, 200, 1, 26, 2, 12, 1, [[-1, 1]])\n",
    "\n",
    "# Write the input and print it\n",
    "inp.write_file('data/prop_input_2.d3')\n",
    "print(inp.data)"
   ]
  },
  {
   "cell_type": "markdown",
   "id": "a2023962-5ce2-47b8-bf16-82fff19f8e06",
   "metadata": {},
   "source": [
    "#### Plot charge difference map\n",
    "\n",
    "All the input block objects defined in CRYSTALpytools, including `Crystal_input` and `Properties_input`, are inherited from the same `BlockBASE` object defined in 'base.inputbase' script. Repeating the same keyword in the same block object overwrites the previous entry, so in principle the same keyword should appear only once in the same block. This leads to issues when running charge difference map, where 'ECHG' is defined twice with the second time a 'PATO' keyword is inserted.\n",
    "\n",
    "To solve this problem, an `append` subblock can be added. Keywords for the initial calculation is set by `obj.keyword()` while keywords for the restarted calculation is set by `obj.append1.keyword()`. `Properties_input` objects alows at most 5 restarted calculations, i.e., `append1` to `append5`."
   ]
  },
  {
   "cell_type": "code",
   "execution_count": 6,
   "id": "d89b0b59-856f-4dd0-88a5-ea4fb5b8913a",
   "metadata": {
    "tags": []
   },
   "outputs": [
    {
     "name": "stdout",
     "output_type": "stream",
     "text": [
      "ECHG\n",
      "0\n",
      "100\n",
      "COORDINA\n",
      "-4.000000 -4.000000  0.000000  \n",
      " 4.000000 -4.000000  0.000000  \n",
      " 4.000000  4.000000  0.000000  \n",
      "RECTANGU\n",
      "MARGINS\n",
      "1.5 1.5 1.5 1.5 \n",
      "END\n",
      "PATO\n",
      "0 0 \n",
      "ECHG\n",
      "0\n",
      "100\n",
      "COORDINA\n",
      "-4.000000 -4.000000  0.000000  \n",
      " 4.000000 -4.000000  0.000000  \n",
      " 4.000000  4.000000  0.000000  \n",
      "RECTANGU\n",
      "MARGINS\n",
      "1.5 1.5 1.5 1.5 \n",
      "END\n",
      "END\n",
      "\n"
     ]
    }
   ],
   "source": [
    "from CRYSTALpytools.crystal_io import Properties_input\n",
    "\n",
    "# Initialization\n",
    "inp = Properties_input()\n",
    "\n",
    "# Initial calculation\n",
    "inp.echg(0) # Default N point MAPNET = 100\n",
    "inp.echg.coordina([-4., -4., 0.], [4, -4, 0.], [4., 4., 0.])\n",
    "inp.echg.margins(1.5, 1.5, 1.5, 1.5)\n",
    "inp.echg.rectangu()\n",
    "\n",
    "# Reference calculation\n",
    "inp.append1.pato(0, 0)\n",
    "inp.append1.echg(0)\n",
    "inp.append1.echg.coordina([-4., -4., 0.], [4, -4, 0.], [4., 4., 0.])\n",
    "inp.append1.echg.margins(1.5, 1.5, 1.5, 1.5)\n",
    "inp.append1.echg.rectangu()\n",
    "\n",
    "# Write the input and print it\n",
    "inp.write_file('data/prop_input_3.d3')\n",
    "print(inp.data)"
   ]
  },
  {
   "cell_type": "markdown",
   "id": "bb1f72fe",
   "metadata": {},
   "source": [
    "### Properties_output class"
   ]
  },
  {
   "cell_type": "code",
   "execution_count": 1,
   "id": "844eb99c",
   "metadata": {
    "tags": []
   },
   "outputs": [],
   "source": [
    "from CRYSTALpytools.crystal_io import Properties_output"
   ]
  },
  {
   "cell_type": "markdown",
   "id": "31c14b9a",
   "metadata": {},
   "source": [
    "#### Band structure\n",
    "Either 'BAND.DAT' or 'fort.25' format can be used."
   ]
  },
  {
   "cell_type": "code",
   "execution_count": 2,
   "id": "7525ccbb",
   "metadata": {
    "tags": []
   },
   "outputs": [
    {
     "name": "stderr",
     "output_type": "stream",
     "text": [
      "/tmp/ipykernel_18529/1396661211.py:2: UserWarning: Properties output file not found: 3D k path not available\n",
      "  mgo_bands.read_electron_band('data/mgo_BAND_dat.BAND')\n"
     ]
    },
    {
     "data": {
      "text/plain": [
       "<CRYSTALpytools.crystal_io.Properties_output at 0x7f948eb6b250>"
      ]
     },
     "execution_count": 2,
     "metadata": {},
     "output_type": "execute_result"
    }
   ],
   "source": [
    "mgo_bands = Properties_output()\n",
    "mgo_bands.read_electron_band('data/mgo_BAND_dat.BAND')\n",
    "mgo_bands"
   ]
  },
  {
   "cell_type": "markdown",
   "id": "17e06d40",
   "metadata": {},
   "source": [
    "#### Density of states (DOS)\n",
    "Either 'DOSS.DAT' or 'fort.25' format can be used."
   ]
  },
  {
   "cell_type": "code",
   "execution_count": 3,
   "id": "ec69cfae",
   "metadata": {
    "scrolled": true,
    "tags": []
   },
   "outputs": [
    {
     "data": {
      "text/plain": [
       "<CRYSTALpytools.electronics.ElectronDOS at 0x7f948eb610a0>"
      ]
     },
     "execution_count": 3,
     "metadata": {},
     "output_type": "execute_result"
    }
   ],
   "source": [
    "mgo_doss = Properties_output()\n",
    "mgo_doss = mgo_doss.read_electron_dos('data/mgo_DOSS_dat.DOSS')\n",
    "mgo_doss"
   ]
  },
  {
   "cell_type": "markdown",
   "id": "8666bd36",
   "metadata": {},
   "source": [
    "### Crystal_gui class"
   ]
  },
  {
   "cell_type": "code",
   "execution_count": 34,
   "id": "a2c9ec2a-e36d-4812-9b6f-7095c8ebb295",
   "metadata": {
    "tags": []
   },
   "outputs": [],
   "source": [
    "from CRYSTALpytools.crystal_io import Crystal_gui"
   ]
  },
  {
   "cell_type": "markdown",
   "id": "ea6f4e55-96b3-4c4c-bc40-95d6073faf38",
   "metadata": {},
   "source": [
    "#### Read CRYSTAL GUI file\n",
    "A gui file is read by `Crystal_gui().read_gui()` method. The file can be converted into other geometry data formats including Pymatgen Structure/Molecule object and CIF file using functions in `CRYSTALpytools.convert`."
   ]
  },
  {
   "cell_type": "code",
   "execution_count": 36,
   "id": "286c6a39-fb2a-4120-bf05-06ffc7325fe2",
   "metadata": {
    "tags": []
   },
   "outputs": [
    {
     "name": "stdout",
     "output_type": "stream",
     "text": [
      "Dimensionality = 3\n",
      "\n",
      "Space group = 225\n",
      "\n",
      "N atoms = 2\n",
      "\n",
      "N symmetry operations = 48\n",
      "\n"
     ]
    }
   ],
   "source": [
    "gui = Crystal_gui().read_gui('data/mgo_optgeom.opttraj/mgo-opt004.gui')\n",
    "print('Dimensionality = {:d}\\n'.format(gui.dimensionality))\n",
    "print('Space group = {:d}\\n'.format(gui.space_group))\n",
    "print('N atoms = {:d}\\n'.format(gui.n_atoms))\n",
    "print('N symmetry operations = {:d}\\n'.format(gui.n_symmops))"
   ]
  },
  {
   "cell_type": "markdown",
   "id": "0b70b5b3",
   "metadata": {},
   "source": [
    "#### Write data as CRYSTAL GUI file\n",
    "Other geometry data formats including Pymatgen Structure/Molecule object and CIF can be read and converted into CRYSTAL gui file.\n",
    "\n",
    "* 3D structure\n",
    "\n",
    "A conventional MgO cell is generated here, which will not be reduced to ensure consistency. To get the irreducible representation, use `CRYSTALpytools.geometry.refine_geometry()` function"
   ]
  },
  {
   "cell_type": "code",
   "execution_count": 37,
   "id": "36f7ffd0",
   "metadata": {
    "tags": []
   },
   "outputs": [],
   "source": [
    "from CRYSTALpytools.convert import cry_pmg2gui\n",
    "from pymatgen.core import Structure, Lattice\n",
    "\n",
    "# A conventional cell is generated here, which will not be reduced to maintain consistency\n",
    "substrate = Structure.from_spacegroup(\"Fm-3m\", Lattice.cubic(4.217), [\"Mg\",'O'], [[0, 0, 0],[0.5,0.5,0.5]])\n",
    "mgo_gui = cry_pmg2gui(substrate, gui_file=None)\n",
    "mgo_gui.write_gui('data/mgo_write_gui.gui')"
   ]
  },
  {
   "cell_type": "code",
   "execution_count": 38,
   "id": "e6bae971",
   "metadata": {
    "tags": []
   },
   "outputs": [
    {
     "name": "stdout",
     "output_type": "stream",
     "text": [
      "   3   1   1\n",
      "  4.217000000000E+00  0.000000000000E+00  0.000000000000E+00\n",
      "  0.000000000000E+00  4.217000000000E+00  0.000000000000E+00\n",
      "  0.000000000000E+00  0.000000000000E+00  4.217000000000E+00\n",
      "   48\n",
      "      1.000000000000      0.000000000000      0.000000000000\n",
      "      0.000000000000      1.000000000000      0.000000000000\n",
      "      0.000000000000      0.000000000000      1.000000000000\n",
      "      0.000000000000      0.000000000000      0.000000000000\n",
      "     -1.000000000000      0.000000000000      0.000000000000\n",
      "      0.000000000000     -1.000000000000      0.000000000000\n",
      "      0.000000000000      0.000000000000     -1.000000000000\n",
      "      0.000000000000      0.000000000000      0.000000000000\n",
      "      0.000000000000     -1.000000000000      0.000000000000\n",
      "      1.000000000000      0.000000000000      0.000000000000\n",
      "      0.000000000000      0.000000000000      1.000000000000\n",
      "      0.000000000000      0.000000000000      0.000000000000\n",
      "      0.000000000000      1.000000000000      0.000000000000\n",
      "     -1.000000000000      0.000000000000      0.000000000000\n",
      "      0.000000000000      0.000000000000     -1.000000000000\n",
      "      0.000000000000      0.000000000000      0.000000000000\n",
      "     -1.000000000000      0.000000000000      0.000000000000\n",
      "      0.000000000000     -1.000000000000      0.000000000000\n",
      "      0.000000000000      0.000000000000      1.000000000000\n",
      "      0.000000000000      0.000000000000      0.000000000000\n",
      "      1.000000000000      0.000000000000      0.000000000000\n",
      "      0.000000000000      1.000000000000      0.000000000000\n",
      "      0.000000000000      0.000000000000     -1.000000000000\n",
      "      0.000000000000      0.000000000000      0.000000000000\n",
      "      0.000000000000      1.000000000000      0.000000000000\n",
      "     -1.000000000000      0.000000000000      0.000000000000\n",
      "      0.000000000000      0.000000000000      1.000000000000\n",
      "      0.000000000000      0.000000000000      0.000000000000\n",
      "      0.000000000000     -1.000000000000      0.000000000000\n",
      "      1.000000000000      0.000000000000      0.000000000000\n",
      "      0.000000000000      0.000000000000     -1.000000000000\n",
      "      0.000000000000      0.000000000000      0.000000000000\n",
      "      1.000000000000      0.000000000000      0.000000000000\n",
      "      0.000000000000     -1.000000000000      0.000000000000\n",
      "      0.000000000000      0.000000000000     -1.000000000000\n",
      "      0.000000000000      0.000000000000      0.000000000000\n",
      "     -1.000000000000      0.000000000000      0.000000000000\n",
      "      0.000000000000      1.000000000000      0.000000000000\n",
      "      0.000000000000      0.000000000000      1.000000000000\n",
      "      0.000000000000      0.000000000000      0.000000000000\n",
      "      0.000000000000     -1.000000000000      0.000000000000\n",
      "     -1.000000000000      0.000000000000      0.000000000000\n",
      "      0.000000000000      0.000000000000     -1.000000000000\n",
      "      0.000000000000      0.000000000000      0.000000000000\n",
      "      0.000000000000      1.000000000000      0.000000000000\n",
      "      1.000000000000      0.000000000000      0.000000000000\n",
      "      0.000000000000      0.000000000000      1.000000000000\n",
      "      0.000000000000      0.000000000000      0.000000000000\n",
      "     -1.000000000000      0.000000000000      0.000000000000\n",
      "      0.000000000000      1.000000000000      0.000000000000\n",
      "      0.000000000000      0.000000000000     -1.000000000000\n",
      "      0.000000000000      0.000000000000      0.000000000000\n",
      "      1.000000000000      0.000000000000      0.000000000000\n",
      "      0.000000000000     -1.000000000000      0.000000000000\n",
      "      0.000000000000      0.000000000000      1.000000000000\n",
      "      0.000000000000      0.000000000000      0.000000000000\n",
      "      0.000000000000      1.000000000000      0.000000000000\n",
      "      1.000000000000      0.000000000000      0.000000000000\n",
      "      0.000000000000      0.000000000000     -1.000000000000\n",
      "      0.000000000000      0.000000000000      0.000000000000\n",
      "      0.000000000000     -1.000000000000      0.000000000000\n",
      "     -1.000000000000      0.000000000000      0.000000000000\n",
      "      0.000000000000      0.000000000000      1.000000000000\n",
      "      0.000000000000      0.000000000000      0.000000000000\n",
      "      0.000000000000      0.000000000000      1.000000000000\n",
      "      1.000000000000      0.000000000000      0.000000000000\n",
      "      0.000000000000      1.000000000000      0.000000000000\n",
      "      0.000000000000      0.000000000000      0.000000000000\n",
      "      0.000000000000      0.000000000000     -1.000000000000\n",
      "     -1.000000000000      0.000000000000      0.000000000000\n",
      "      0.000000000000     -1.000000000000      0.000000000000\n",
      "      0.000000000000      0.000000000000      0.000000000000\n",
      "      0.000000000000      0.000000000000      1.000000000000\n",
      "      0.000000000000     -1.000000000000      0.000000000000\n",
      "      1.000000000000      0.000000000000      0.000000000000\n",
      "      0.000000000000      0.000000000000      0.000000000000\n",
      "      0.000000000000      0.000000000000     -1.000000000000\n",
      "      0.000000000000      1.000000000000      0.000000000000\n",
      "     -1.000000000000      0.000000000000      0.000000000000\n",
      "      0.000000000000      0.000000000000      0.000000000000\n",
      "      0.000000000000      0.000000000000      1.000000000000\n",
      "     -1.000000000000      0.000000000000      0.000000000000\n",
      "      0.000000000000     -1.000000000000      0.000000000000\n",
      "      0.000000000000      0.000000000000      0.000000000000\n",
      "      0.000000000000      0.000000000000     -1.000000000000\n",
      "      1.000000000000      0.000000000000      0.000000000000\n",
      "      0.000000000000      1.000000000000      0.000000000000\n",
      "      0.000000000000      0.000000000000      0.000000000000\n",
      "      0.000000000000      0.000000000000      1.000000000000\n",
      "      0.000000000000      1.000000000000      0.000000000000\n",
      "     -1.000000000000      0.000000000000      0.000000000000\n",
      "      0.000000000000      0.000000000000      0.000000000000\n",
      "      0.000000000000      0.000000000000     -1.000000000000\n",
      "      0.000000000000     -1.000000000000      0.000000000000\n",
      "      1.000000000000      0.000000000000      0.000000000000\n",
      "      0.000000000000      0.000000000000      0.000000000000\n",
      "      0.000000000000      0.000000000000     -1.000000000000\n",
      "      1.000000000000      0.000000000000      0.000000000000\n",
      "      0.000000000000     -1.000000000000      0.000000000000\n",
      "      0.000000000000      0.000000000000      0.000000000000\n",
      "      0.000000000000      0.000000000000      1.000000000000\n",
      "     -1.000000000000      0.000000000000      0.000000000000\n",
      "      0.000000000000      1.000000000000      0.000000000000\n",
      "      0.000000000000      0.000000000000      0.000000000000\n",
      "      0.000000000000      0.000000000000     -1.000000000000\n",
      "      0.000000000000     -1.000000000000      0.000000000000\n",
      "     -1.000000000000      0.000000000000      0.000000000000\n",
      "      0.000000000000      0.000000000000      0.000000000000\n",
      "      0.000000000000      0.000000000000      1.000000000000\n",
      "      0.000000000000      1.000000000000      0.000000000000\n",
      "      1.000000000000      0.000000000000      0.000000000000\n",
      "      0.000000000000      0.000000000000      0.000000000000\n",
      "      0.000000000000      0.000000000000     -1.000000000000\n",
      "     -1.000000000000      0.000000000000      0.000000000000\n",
      "      0.000000000000      1.000000000000      0.000000000000\n",
      "      0.000000000000      0.000000000000      0.000000000000\n",
      "      0.000000000000      0.000000000000      1.000000000000\n",
      "      1.000000000000      0.000000000000      0.000000000000\n",
      "      0.000000000000     -1.000000000000      0.000000000000\n",
      "      0.000000000000      0.000000000000      0.000000000000\n",
      "      0.000000000000      0.000000000000     -1.000000000000\n",
      "      0.000000000000      1.000000000000      0.000000000000\n",
      "      1.000000000000      0.000000000000      0.000000000000\n",
      "      0.000000000000      0.000000000000      0.000000000000\n",
      "      0.000000000000      0.000000000000      1.000000000000\n",
      "      0.000000000000     -1.000000000000      0.000000000000\n",
      "     -1.000000000000      0.000000000000      0.000000000000\n",
      "      0.000000000000      0.000000000000      0.000000000000\n",
      "      0.000000000000      1.000000000000      0.000000000000\n",
      "      0.000000000000      0.000000000000      1.000000000000\n",
      "      1.000000000000      0.000000000000      0.000000000000\n",
      "      0.000000000000      0.000000000000      0.000000000000\n",
      "      0.000000000000     -1.000000000000      0.000000000000\n",
      "      0.000000000000      0.000000000000     -1.000000000000\n",
      "     -1.000000000000      0.000000000000      0.000000000000\n",
      "      0.000000000000      0.000000000000      0.000000000000\n",
      "      1.000000000000      0.000000000000      0.000000000000\n",
      "      0.000000000000      0.000000000000      1.000000000000\n",
      "      0.000000000000     -1.000000000000      0.000000000000\n",
      "      0.000000000000      0.000000000000      0.000000000000\n",
      "     -1.000000000000      0.000000000000      0.000000000000\n",
      "      0.000000000000      0.000000000000     -1.000000000000\n",
      "      0.000000000000      1.000000000000      0.000000000000\n",
      "      0.000000000000      0.000000000000      0.000000000000\n",
      "      0.000000000000     -1.000000000000      0.000000000000\n",
      "      0.000000000000      0.000000000000      1.000000000000\n",
      "     -1.000000000000      0.000000000000      0.000000000000\n",
      "      0.000000000000      0.000000000000      0.000000000000\n",
      "      0.000000000000      1.000000000000      0.000000000000\n",
      "      0.000000000000      0.000000000000     -1.000000000000\n",
      "      1.000000000000      0.000000000000      0.000000000000\n",
      "      0.000000000000      0.000000000000      0.000000000000\n",
      "     -1.000000000000      0.000000000000      0.000000000000\n",
      "      0.000000000000      0.000000000000      1.000000000000\n",
      "      0.000000000000      1.000000000000      0.000000000000\n",
      "      0.000000000000      0.000000000000      0.000000000000\n",
      "      1.000000000000      0.000000000000      0.000000000000\n",
      "      0.000000000000      0.000000000000     -1.000000000000\n",
      "      0.000000000000     -1.000000000000      0.000000000000\n",
      "      0.000000000000      0.000000000000      0.000000000000\n",
      "      0.000000000000     -1.000000000000      0.000000000000\n",
      "      0.000000000000      0.000000000000     -1.000000000000\n",
      "      1.000000000000      0.000000000000      0.000000000000\n",
      "      0.000000000000      0.000000000000      0.000000000000\n",
      "      0.000000000000      1.000000000000      0.000000000000\n",
      "      0.000000000000      0.000000000000      1.000000000000\n",
      "     -1.000000000000      0.000000000000      0.000000000000\n",
      "      0.000000000000      0.000000000000      0.000000000000\n",
      "     -1.000000000000      0.000000000000      0.000000000000\n",
      "      0.000000000000      0.000000000000     -1.000000000000\n",
      "      0.000000000000     -1.000000000000      0.000000000000\n",
      "      0.000000000000      0.000000000000      0.000000000000\n",
      "      1.000000000000      0.000000000000      0.000000000000\n",
      "      0.000000000000      0.000000000000      1.000000000000\n",
      "      0.000000000000      1.000000000000      0.000000000000\n",
      "      0.000000000000      0.000000000000      0.000000000000\n",
      "      0.000000000000      1.000000000000      0.000000000000\n",
      "      0.000000000000      0.000000000000     -1.000000000000\n",
      "     -1.000000000000      0.000000000000      0.000000000000\n",
      "      0.000000000000      0.000000000000      0.000000000000\n",
      "      0.000000000000     -1.000000000000      0.000000000000\n",
      "      0.000000000000      0.000000000000      1.000000000000\n",
      "      1.000000000000      0.000000000000      0.000000000000\n",
      "      0.000000000000      0.000000000000      0.000000000000\n",
      "      1.000000000000      0.000000000000      0.000000000000\n",
      "      0.000000000000      0.000000000000     -1.000000000000\n",
      "      0.000000000000      1.000000000000      0.000000000000\n",
      "      0.000000000000      0.000000000000      0.000000000000\n",
      "     -1.000000000000      0.000000000000      0.000000000000\n",
      "      0.000000000000      0.000000000000      1.000000000000\n",
      "      0.000000000000     -1.000000000000      0.000000000000\n",
      "      0.000000000000      0.000000000000      0.000000000000\n",
      "    8\n",
      "   12  0.000000000000E+00  0.000000000000E+00  0.000000000000E+00\n",
      "   12  0.000000000000E+00  2.108500000000E+00  2.108500000000E+00\n",
      "   12  2.108500000000E+00  0.000000000000E+00  2.108500000000E+00\n",
      "   12  2.108500000000E+00  2.108500000000E+00  0.000000000000E+00\n",
      "    8  0.000000000000E+00  0.000000000000E+00  2.108500000000E+00\n",
      "    8  0.000000000000E+00  2.108500000000E+00  0.000000000000E+00\n",
      "    8  2.108500000000E+00  0.000000000000E+00  0.000000000000E+00\n",
      "    8  2.108500000000E+00  2.108500000000E+00  2.108500000000E+00\n",
      "  225   48\n"
     ]
    }
   ],
   "source": [
    "! cat data/mgo_write_gui.gui"
   ]
  },
  {
   "cell_type": "markdown",
   "id": "1133ed57",
   "metadata": {},
   "source": [
    "* 2D slab\n",
    "\n",
    "A MgO (100) slab is generated. The thickness of vacuum layer (which is not very meaningful since CRYSTAL is based on atomic orbitals) is set to be 25 Angstrom, instead of the default of 500 Angstrom in z direction. "
   ]
  },
  {
   "cell_type": "code",
   "execution_count": 39,
   "id": "502ec530",
   "metadata": {
    "tags": []
   },
   "outputs": [],
   "source": [
    "from pymatgen.core import Structure, Lattice\n",
    "from pymatgen.core.surface import SlabGenerator\n",
    "\n",
    "#Generate bulk structure\n",
    "substrate = Structure.from_spacegroup(\"Fm-3m\", Lattice.cubic(4.217), [\"Mg\",'O'], [[0, 0, 0],[0.5,0.5,0.5]])\n",
    "#Generate slab\n",
    "substrate = SlabGenerator(substrate, (1,0,0), 5., 10., center_slab=True).get_slab()\n",
    "\n",
    "# Pymatgen get_slab will return to a 3D structure. Use pbc to force the\n",
    "# implementation of 2D periodicity otherwise the vaccum input is invalid\n",
    "mgo_slab_gui = cry_pmg2gui(substrate, gui_file=None, pbc=[True, True, False], vacuum=25)\n",
    "mgo_slab_gui.write_gui('data/mgo_100_write_gui.gui',mgo_slab_gui)"
   ]
  },
  {
   "cell_type": "code",
   "execution_count": 40,
   "id": "dc48a185",
   "metadata": {
    "tags": []
   },
   "outputs": [
    {
     "name": "stdout",
     "output_type": "stream",
     "text": [
      "   2   1   1\n",
      "  2.981869296264E+00  0.000000000000E+00  0.000000000000E+00\n",
      "  0.000000000000E+00  2.981869296264E+00  0.000000000000E+00\n",
      "  0.000000000000E+00  0.000000000000E+00  3.132550000000E+01\n",
      "   16\n",
      "      1.000000000000      0.000000000000      0.000000000000\n",
      "      0.000000000000      1.000000000000      0.000000000000\n",
      "     -0.000000000000     -0.000000000000      1.000000000000\n",
      "      0.000000000000      0.000000000000      0.000000000000\n",
      "      0.000000000000     -1.000000000000      0.000000000000\n",
      "      1.000000000000     -0.000000000000      0.000000000000\n",
      "     -0.000000000000     -0.000000000000      1.000000000000\n",
      "      0.000000000000      0.000000000000      0.000000000000\n",
      "     -1.000000000000     -0.000000000000      0.000000000000\n",
      "      0.000000000000     -1.000000000000      0.000000000000\n",
      "     -0.000000000000     -0.000000000000      1.000000000000\n",
      "      0.000000000000      0.000000000000      0.000000000000\n",
      "     -0.000000000000      1.000000000000      0.000000000000\n",
      "     -1.000000000000      0.000000000000      0.000000000000\n",
      "     -0.000000000000      0.000000000000      1.000000000000\n",
      "      0.000000000000      0.000000000000      0.000000000000\n",
      "      1.000000000000     -0.000000000000      0.000000000000\n",
      "      0.000000000000     -1.000000000000      0.000000000000\n",
      "      0.000000000000     -0.000000000000     -1.000000000000\n",
      "      1.490934648132      1.490934648132      0.000000000000\n",
      "     -0.000000000000     -1.000000000000      0.000000000000\n",
      "     -1.000000000000      0.000000000000      0.000000000000\n",
      "      0.000000000000      0.000000000000     -1.000000000000\n",
      "      1.490934648132      1.490934648132      0.000000000000\n",
      "     -1.000000000000      0.000000000000      0.000000000000\n",
      "      0.000000000000      1.000000000000      0.000000000000\n",
      "      0.000000000000      0.000000000000     -1.000000000000\n",
      "      1.490934648132      1.490934648132      0.000000000000\n",
      "      0.000000000000      1.000000000000      0.000000000000\n",
      "      1.000000000000     -0.000000000000      0.000000000000\n",
      "      0.000000000000      0.000000000000     -1.000000000000\n",
      "      1.490934648132      1.490934648132      0.000000000000\n",
      "     -1.000000000000     -0.000000000000      0.000000000000\n",
      "      0.000000000000     -1.000000000000      0.000000000000\n",
      "      0.000000000000      0.000000000000     -1.000000000000\n",
      "      1.490934648132      1.490934648132      0.000000000000\n",
      "     -0.000000000000      1.000000000000      0.000000000000\n",
      "     -1.000000000000      0.000000000000      0.000000000000\n",
      "      0.000000000000      0.000000000000     -1.000000000000\n",
      "      1.490934648132      1.490934648132      0.000000000000\n",
      "      1.000000000000      0.000000000000      0.000000000000\n",
      "      0.000000000000      1.000000000000      0.000000000000\n",
      "      0.000000000000      0.000000000000     -1.000000000000\n",
      "      1.490934648132      1.490934648132      0.000000000000\n",
      "      0.000000000000     -1.000000000000      0.000000000000\n",
      "      1.000000000000     -0.000000000000      0.000000000000\n",
      "      0.000000000000     -0.000000000000     -1.000000000000\n",
      "      1.490934648132      1.490934648132      0.000000000000\n",
      "     -1.000000000000      0.000000000000      0.000000000000\n",
      "      0.000000000000      1.000000000000      0.000000000000\n",
      "     -0.000000000000      0.000000000000      1.000000000000\n",
      "      0.000000000000      0.000000000000      0.000000000000\n",
      "      0.000000000000      1.000000000000      0.000000000000\n",
      "      1.000000000000     -0.000000000000      0.000000000000\n",
      "     -0.000000000000     -0.000000000000      1.000000000000\n",
      "      0.000000000000      0.000000000000      0.000000000000\n",
      "      1.000000000000     -0.000000000000      0.000000000000\n",
      "      0.000000000000     -1.000000000000      0.000000000000\n",
      "     -0.000000000000     -0.000000000000      1.000000000000\n",
      "      0.000000000000      0.000000000000      0.000000000000\n",
      "     -0.000000000000     -1.000000000000      0.000000000000\n",
      "     -1.000000000000      0.000000000000      0.000000000000\n",
      "     -0.000000000000     -0.000000000000      1.000000000000\n",
      "      0.000000000000      0.000000000000      0.000000000000\n",
      "    8\n",
      "   12  0.000000000000E+00  0.000000000000E+00  3.162750000000E+00\n",
      "   12  1.490934648132E+00  1.490934648132E+00  1.054250000000E+00\n",
      "   12  0.000000000000E+00  0.000000000000E+00 -1.054250000000E+00\n",
      "   12  1.490934648132E+00  1.490934648132E+00 -3.162750000000E+00\n",
      "    8  0.000000000000E+00  0.000000000000E+00  1.054250000000E+00\n",
      "    8  1.490934648132E+00  1.490934648132E+00  3.162750000000E+00\n",
      "    8  0.000000000000E+00  0.000000000000E+00 -3.162750000000E+00\n",
      "    8  1.490934648132E+00  1.490934648132E+00 -1.054250000000E+00\n",
      "    1    1\n"
     ]
    }
   ],
   "source": [
    "! cat data/mgo_100_write_gui.gui"
   ]
  }
 ],
 "metadata": {
  "kernelspec": {
   "display_name": "Python 3 (ipykernel)",
   "language": "python",
   "name": "python3"
  },
  "language_info": {
   "codemirror_mode": {
    "name": "ipython",
    "version": 3
   },
   "file_extension": ".py",
   "mimetype": "text/x-python",
   "name": "python",
   "nbconvert_exporter": "python",
   "pygments_lexer": "ipython3",
   "version": "3.11.5"
  }
 },
 "nbformat": 4,
 "nbformat_minor": 5
}
