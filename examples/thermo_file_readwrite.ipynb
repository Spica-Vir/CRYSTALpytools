{
 "cells": [
  {
   "cell_type": "markdown",
   "id": "85bb3049",
   "metadata": {},
   "source": [
    "# Basic I/O of DFPT\n",
    "The density functional perturbation theory (DFPT) specific methods and attributes are available in 'crystal_io.py' since July 2022."
   ]
  },
  {
   "cell_type": "markdown",
   "id": "2573d3d0",
   "metadata": {},
   "source": [
    "## Tests\n",
    "\n",
    "4 tests are performed. The first one is for $\\Gamma$ point frequencies. The second one is for dispersion calculations. The third one has negative frequencies, in order to examine the input option `rm_imaginary`. The last one is to illustrate the general applicability of this module to QHA outputs.\n",
    "\n",
    "1. Form I paracetamol, 'freqf1-r0.out', $\\Gamma$ point HA frequencies, with occasional warning messages. nqpoint = 1, nmode = 240, natom = 80.  \n",
    "2. A graphene primitive cell, 'nostr-modes.out', phonon dispersion calculated along the $\\Gamma-K-M$ path. nqpoint = 123, nmode = 6, natom = 2.  \n",
    "3. Form II paracetamol, 'f2p2q-r1.out', $\\Gamma$ point HA frequencies, with imaginary modes. nqpoint = 1, nmode = 480, natom = 160.  \n",
    "4. Corundum, 'corundum.out', available on [crystal tutorial website](https://tutorials.crystalsolutions.eu/tutorials/Tutorial_QHA/AL2O3_SC30_QHA.out). Used to illustrate the structure of data when reading outputs by the QHA module of CRYSTAL. "
   ]
  },
  {
   "cell_type": "markdown",
   "id": "c7d8d4e0",
   "metadata": {},
   "source": [
    "### Get energy, qpoints and frequencies at each qpoint\n",
    "\n",
    "nqpoint = 1, nmode = 240 for paracetamol case, nqpoint = 120, nmode = 6 for graphene case. 123 q points exist in the graphene case, with 3 of them overlapping with the previous run, which, by default, is removed. To keep them, set `rm_overlap` = False.\n",
    "\n",
    "\n",
    "In both cases, nqpoint should be an integer and nmode should be a numpy array."
   ]
  },
  {
   "cell_type": "code",
   "execution_count": 1,
   "id": "f458c8f9",
   "metadata": {
    "scrolled": true,
    "tags": []
   },
   "outputs": [
    {
     "name": "stdout",
     "output_type": "stream",
     "text": [
      "Paracetamol EDFT: -5402456.254965135\n",
      "Paracetamol qpoint: 1 [[array([0., 0., 0.]), 1.0]]\n",
      "Paracetamol modes: 1 [240]\n"
     ]
    }
   ],
   "source": [
    "from CRYSTALpytools.crystal_io import Crystal_output\n",
    "\n",
    "paracetamol = Crystal_output()\n",
    "paracetamol.read_cry_output('data/freqf1-r0.out')\n",
    "paracetamol.get_phonon()\n",
    "print('Paracetamol EDFT:', paracetamol.edft[0])\n",
    "print('Paracetamol qpoint:', paracetamol.nqpoint, paracetamol.qpoint)\n",
    "print('Paracetamol modes:', len(paracetamol.nmode), paracetamol.nmode)"
   ]
  },
  {
   "cell_type": "code",
   "execution_count": 2,
   "id": "5cf3f4ec",
   "metadata": {
    "tags": []
   },
   "outputs": [
    {
     "name": "stdout",
     "output_type": "stream",
     "text": [
      "Graphene EDFT: -28768034.906402458\n",
      "Graphene qpoints: 120\n",
      "Graphene modes: 120 [6 6 6 6 6 6 6 6 6 6 6 6 6 6 6 6 6 6 6 6 6 6 6 6 6 6 6 6 6 6 6 6 6 6 6 6 6\n",
      " 6 6 6 6 6 6 6 6 6 6 6 6 6 6 6 6 6 6 6 6 6 6 6 6 6 6 6 6 6 6 6 6 6 6 6 6 6\n",
      " 6 6 6 6 6 6 6 6 6 6 6 6 6 6 6 6 6 6 6 6 6 6 6 6 6 6 6 6 6 6 6 6 6 6 6 6 6\n",
      " 6 6 6 6 6 6 6 6 6]\n"
     ]
    },
    {
     "name": "stderr",
     "output_type": "stream",
     "text": [
      "/home/e89/e89/hyz20ic/app/anaconda3/envs/crystal_py3.9/lib/python3.9/site-packages/CRYSTALpytools/crystal_io.py:1007: UserWarning: Negative frequencies detected.\n",
      "  Calculated thermodynamics might be inaccurate. Negative frequencies will be substituted by NaN.\n",
      "  self = PhononBASE.clean_imaginary(self, threshold=imaginary_tol)\n",
      "/home/e89/e89/hyz20ic/app/anaconda3/envs/crystal_py3.9/lib/python3.9/site-packages/CRYSTALpytools/crystal_io.py:1010: UserWarning: Overlap of q points is detected between q points   0 and 122\n",
      "  self = PhononBASE.clean_q_overlap(self, threshold=q_overlap_tol)\n",
      "/home/e89/e89/hyz20ic/app/anaconda3/envs/crystal_py3.9/lib/python3.9/site-packages/CRYSTALpytools/crystal_io.py:1010: UserWarning: Overlap of q points is detected between q points  40 and  41\n",
      "  self = PhononBASE.clean_q_overlap(self, threshold=q_overlap_tol)\n",
      "/home/e89/e89/hyz20ic/app/anaconda3/envs/crystal_py3.9/lib/python3.9/site-packages/CRYSTALpytools/crystal_io.py:1010: UserWarning: Overlap of q points is detected between q points  81 and  82\n",
      "  self = PhononBASE.clean_q_overlap(self, threshold=q_overlap_tol)\n"
     ]
    }
   ],
   "source": [
    "graphene = Crystal_output()\n",
    "graphene.read_cry_output('data/nostr_modes.out')\n",
    "graphene.get_phonon()\n",
    "print('Graphene EDFT:', graphene.edft[0])\n",
    "print('Graphene qpoints:', graphene.nqpoint)\n",
    "print('Graphene modes:', len(graphene.nmode), graphene.nmode)"
   ]
  },
  {
   "cell_type": "markdown",
   "id": "16550ab4",
   "metadata": {},
   "source": [
    "### Get eigenvectors\n",
    "Self.eigenvector should be a 1 (nqpoint) * 240 (nmode) * 80 (natom) * 3 (xyz) complex array for paracetamol case. A 123 * 6 * 2 * 3 complex array for graphene case. Overlapping q points and imaginary modes are kept."
   ]
  },
  {
   "cell_type": "markdown",
   "id": "8ad0ac5d",
   "metadata": {},
   "source": [
    "Example: Find the qpoint coordinate, frequency and eigenvectors of all atoms in the graphene primitive cell, with a given qpoint (75) and vibrational mode (3rd)"
   ]
  },
  {
   "cell_type": "code",
   "execution_count": 3,
   "id": "d88c6de7",
   "metadata": {
    "tags": []
   },
   "outputs": [
    {
     "name": "stdout",
     "output_type": "stream",
     "text": [
      "Paracetamol\n",
      "nqpoint= 1 nmode= 240 natom= 80 first eigenvector= [ 0.11126206+0.j  0.        +0.j -0.01098885+0.j]\n",
      "Graphene\n",
      "nqpoint= 123 nmode= 6 natom= 2 first eigenvector= [0.        +0.j 0.        +0.j 0.70710678+0.j]\n"
     ]
    }
   ],
   "source": [
    "paracetamol.get_phonon(read_eigvt=True, rm_imaginary=False, rm_overlap=False)\n",
    "\n",
    "print('Paracetamol')\n",
    "print('nqpoint=', len(paracetamol.eigenvector),\n",
    "      'nmode=', len(paracetamol.eigenvector[0]),\n",
    "      'natom=', len(paracetamol.eigenvector[0, 0]),\n",
    "      'first eigenvector=', paracetamol.eigenvector[0, 0, 0])\n",
    "\n",
    "graphene.get_phonon(read_eigvt=True, rm_imaginary=False, rm_overlap=False)\n",
    "print('Graphene')\n",
    "print('nqpoint=', len(graphene.eigenvector),\n",
    "      'nmode=', len(graphene.eigenvector[0]),\n",
    "      'natom=', len(graphene.eigenvector[0, 0]),\n",
    "      'first eigenvector=', graphene.eigenvector[0, 0, 0])"
   ]
  },
  {
   "cell_type": "code",
   "execution_count": 4,
   "id": "f03b4019",
   "metadata": {
    "tags": []
   },
   "outputs": [
    {
     "name": "stdout",
     "output_type": "stream",
     "text": [
      "Wavevector coordinates: [0.47083333 0.05833333 0.        ]\n",
      "Frequency: 19.8656\n",
      "Eigenvectors: [[ 3.46485288e-04+0.02078912j  7.06829987e-01+0.j\n",
      "  -3.46485288e-04+0.j        ]\n",
      " [-3.46485288e-03-0.02044263j  6.95049487e-01-0.12819956j\n",
      "   3.46485288e-04+0.j        ]]\n"
     ]
    }
   ],
   "source": [
    "print('Wavevector coordinates:', graphene.qpoint[74][0])\n",
    "print('Frequency:', graphene.frequency[74, 2])\n",
    "print('Eigenvectors:', graphene.eigenvector[74, 2])"
   ]
  },
  {
   "cell_type": "markdown",
   "id": "34c672b6",
   "metadata": {},
   "source": [
    "Compare with the crystal output file:\n",
    "\n",
    "At the start point of $K-M$ path:  \n",
    "```\n",
    " *******************************************************************************\n",
    "\n",
    "  PHONONS ALONG PATH:   2 NUMBER OF K POINTS:   41\n",
    "\n",
    "  FROM K  (   2   2   0 ) TO K  (   3   0   0 ) WITH DENOMINATOR    6\n",
    "\n",
    "  THE POSITION OF THE POINTS IS EXPRESSED IN UNITS        OF DENOMINATOR  240\n",
    "\n",
    " *******************************************************************************\n",
    "```\n",
    " \n",
    " At the 75th qpoint:  \n",
    "```\n",
    " DISPERSION K POINT NUMBER    75 COORD:  C( 113  14   0 )    WEIGHT:    1.\n",
    "\n",
    "    MODES         EIGV          FREQUENCIES     IRREP\n",
    "             (HARTREE**2)   (CM**-1)     (THZ)\n",
    "    1-   1    0.4928E-05    487.1942   14.6057  (  1)\n",
    "    2-   2    0.8383E-05    635.4696   19.0509  (  1)\n",
    "    3-   3    0.9116E-05    662.6443   19.8656  (  1)\n",
    "    4-   4    0.3933E-04   1376.3503   41.2619  (  1)\n",
    "    5-   5    0.4131E-04   1410.6170   42.2892  (  1)\n",
    "    6-   6    0.4439E-04   1462.3150   43.8391  (  1)\n",
    "\n",
    " MODES IN PHASE\n",
    "\n",
    " FREQ(CM**-1)    487.19    635.47    662.64   1376.35   1410.62   1462.32\n",
    "\n",
    " AT.   1 C  X     0.0001    0.0001    0.0001   -0.2006    0.1997    0.0072\n",
    "            Y     0.0000   -0.0001    0.2040    0.0015   -0.0002   -0.1963\n",
    "            Z     0.2041   -0.2007   -0.0001    0.0001    0.0001    0.0000\n",
    " AT.   2 C  X    -0.0001    0.0001   -0.0010    0.2041    0.1963    0.0003\n",
    "            Y     0.0000   -0.0001    0.2006   -0.0004   -0.0077    0.1996\n",
    "            Z     0.2007    0.2041    0.0001    0.0001   -0.0001   -0.0000\n",
    "\n",
    " MODES IN ANTI-PHASE\n",
    "\n",
    " FREQ(CM**-1)    487.19    635.47    662.64   1376.35   1410.62   1462.32\n",
    "\n",
    " AT.   1 C  X    -0.0000    0.0000    0.0060   -0.0368    0.0002   -0.0420\n",
    "            Y     0.0000   -0.0000   -0.0000   -0.0058    0.0425   -0.0362\n",
    "            Z    -0.0000   -0.0372    0.0000    0.0000    0.0000   -0.0000\n",
    " AT.   2 C  X     0.0000    0.0000   -0.0059   -0.0001   -0.0361   -0.0425\n",
    "            Y     0.0000   -0.0000   -0.0370   -0.0060   -0.0418    0.0000\n",
    "            Z    -0.0372   -0.0000   -0.0000    0.0000    0.0000    0.0000\n",
    "```\n"
   ]
  },
  {
   "cell_type": "markdown",
   "id": "cbba9bc8",
   "metadata": {},
   "source": [
    "### Get rid of negative frequency\n",
    "A test is performed on a harmonic phonon output with negative frequencies. In principle, the user is expected to redo all calculations to get rid of imaginary modes, instead of continuing thermodynamic analysis. Here we assume the user does not know the existance of imagninary modes.\n",
    "\n",
    "Removing negative frequency is launched by default with `rm_imaginary` = True.\n",
    "\n",
    "Tests performed on Form II paracetamol $\\Gamma$ point, stretched by 2% volumetric strain. There are 160 atoms, 480 modes, 1 qpoint. The output is attached in the same directory named as 'f2p2q-r1.out'. Modes 1-5 are negative, as given below:\n",
    "\n",
    "```\n",
    "    MODES         EIGV          FREQUENCIES     IRREP  IR   INTENS    RAMAN\n",
    "             (HARTREE**2)   (CM**-1)     (THZ)             (KM/MOL)\n",
    "    1-   1   -0.7201E-07    -58.8941   -1.7656  (B3g)   I (     0.00)   A\n",
    "    2-   2   -0.6031E-07    -53.9001   -1.6159  (Ag )   I (     0.00)   A\n",
    "    3-   3   -0.3525E-07    -41.2052   -1.2353  (Au )   I (     0.00)   I\n",
    "    4-   4   -0.1932E-07    -30.5064   -0.9146  (B2g)   I (     0.00)   A\n",
    "    5-   5   -0.2848E-08    -11.7124   -0.3511  (B1g)   I (     0.00)   A\n",
    "    6-   6   -0.4132E-19      0.0000    0.0000  (B2u)   A (     0.00)   I\n",
    "```\n",
    "\n",
    "PS: Never use pob-TZVP basis set for energies, that is miserable :-)"
   ]
  },
  {
   "cell_type": "code",
   "execution_count": 5,
   "id": "985f98aa",
   "metadata": {
    "tags": []
   },
   "outputs": [
    {
     "name": "stdout",
     "output_type": "stream",
     "text": [
      "[nan nan nan nan nan  0.]\n",
      "[[        nan+0.j         nan+0.j         nan+0.j]\n",
      " [        nan+0.j         nan+0.j         nan+0.j]\n",
      " [        nan+0.j         nan+0.j         nan+0.j]\n",
      " [        nan+0.j         nan+0.j         nan+0.j]\n",
      " [        nan+0.j         nan+0.j         nan+0.j]\n",
      " [-0.07905694+0.j  0.        +0.j  0.        +0.j]]\n"
     ]
    }
   ],
   "source": [
    "neg_freq = Crystal_output()\n",
    "neg_freq.read_cry_output('data/f2p2q-r1.out')\n",
    "neg_freq.get_phonon(read_eigvt=True)\n",
    "\n",
    "print(neg_freq.frequency[0, :6])\n",
    "print(neg_freq.eigenvector[0, :6, 0, :])"
   ]
  },
  {
   "cell_type": "markdown",
   "id": "77db324d-5033-4a96-950f-e1119326106f",
   "metadata": {},
   "source": [
    "### Read outputs from QHA module\n",
    "\n",
    "The QHA module of CRYSTAL includes automatic generation, optimization and frequency calculations at $\\Gamma$ point. Therefore a different strategy is adopted and keeps the structure of code consistent. Since in all cases, nqpoint = 1, this dimension is removed to avoid an extra 'ncalc' dimension. `Crystal_output().frequency` becomes a 'ncalc\\*nmode' list that corresponds to frequencies at each volume, or HA phonon calculation, instead of at each q point. Other attributes are changed accordingly.\n",
    "\n",
    "**NOTE**\n",
    "\n",
    "When this method is called, `rm_overlap` MUST be false. Reading it with `CRYSTALpytools.thermodynamics.Quasi_harmonic.from_QHA_file` method is recommended."
   ]
  },
  {
   "cell_type": "code",
   "execution_count": 6,
   "id": "27693bda-617f-479b-872a-db906e7634a2",
   "metadata": {
    "tags": []
   },
   "outputs": [
    {
     "name": "stdout",
     "output_type": "stream",
     "text": [
      "4\n",
      "[[array([0., 0., 0.]), 1.0], [array([0., 0., 0.]), 1.0], [array([0., 0., 0.]), 1.0], [array([0., 0., 0.]), 1.0]]\n",
      "[90 90 90 90]\n"
     ]
    }
   ],
   "source": [
    "qha_freq = Crystal_output()\n",
    "qha_freq.read_cry_output('data/corundum.out')\n",
    "qha_freq.get_phonon(read_eigvt=True, rm_overlap=False)\n",
    "\n",
    "print(qha_freq.nqpoint)\n",
    "print(qha_freq.qpoint)\n",
    "print(qha_freq.nmode)"
   ]
  }
 ],
 "metadata": {
  "kernelspec": {
   "display_name": "Python 3 (ipykernel)",
   "language": "python",
   "name": "python3"
  },
  "language_info": {
   "codemirror_mode": {
    "name": "ipython",
    "version": 3
   },
   "file_extension": ".py",
   "mimetype": "text/x-python",
   "name": "python",
   "nbconvert_exporter": "python",
   "pygments_lexer": "ipython3",
   "version": "3.11.5"
  }
 },
 "nbformat": 4,
 "nbformat_minor": 5
}
